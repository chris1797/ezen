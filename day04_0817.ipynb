{
 "cells": [
  {
   "cell_type": "code",
   "execution_count": 1,
   "id": "13538bfe",
   "metadata": {},
   "outputs": [],
   "source": [
    "r = range(0, 10)   # range(start, stop[, step]) -> range object , step은 생략가능"
   ]
  },
  {
   "cell_type": "code",
   "execution_count": 2,
   "id": "fa8d5f78-5018-4a2f-91e5-33cd7bcf0926",
   "metadata": {},
   "outputs": [
    {
     "data": {
      "text/plain": [
       "range"
      ]
     },
     "execution_count": 2,
     "metadata": {},
     "output_type": "execute_result"
    }
   ],
   "source": [
    "type(r)"
   ]
  },
  {
   "cell_type": "code",
   "execution_count": 3,
   "id": "6840946a-dfb6-41dd-b091-40b5c3cf4916",
   "metadata": {},
   "outputs": [
    {
     "data": {
      "text/plain": [
       "[0, 1, 2, 3, 4, 5, 6, 7, 8, 9]"
      ]
     },
     "execution_count": 3,
     "metadata": {},
     "output_type": "execute_result"
    }
   ],
   "source": [
    "list(r)"
   ]
  },
  {
   "cell_type": "code",
   "execution_count": 7,
   "id": "f99a1955-37a7-42c7-9767-da445fdc49e1",
   "metadata": {},
   "outputs": [
    {
     "data": {
      "text/plain": [
       "[5, 4, 3, 2, 1]"
      ]
     },
     "execution_count": 7,
     "metadata": {},
     "output_type": "execute_result"
    }
   ],
   "source": [
    "list(range(1,5))\n",
    "list(range(1,5, 1))    # 1에서 5까지 +1\n",
    "list(range(5,0, -1))   # 5에서 0까지 -1"
   ]
  },
  {
   "cell_type": "markdown",
   "id": "a7422a4a-efd1-4a56-99e3-1798e8a10ab3",
   "metadata": {},
   "source": [
    "### 함수 작성, 리스트(원소는 정수 10개)를 받아서 원소들의 합산 결과를 리턴하는 함수"
   ]
  },
  {
   "cell_type": "code",
   "execution_count": 14,
   "id": "82d5b0b5-55da-426a-8af5-32c48a4fe7bb",
   "metadata": {},
   "outputs": [
    {
     "data": {
      "text/plain": [
       "55"
      ]
     },
     "execution_count": 14,
     "metadata": {},
     "output_type": "execute_result"
    }
   ],
   "source": [
    "def list_sum(nums):\n",
    "    return sum(nums)\n",
    "\n",
    "lst = range(1,11)\n",
    "list_sum(lst)"
   ]
  },
  {
   "cell_type": "code",
   "execution_count": 22,
   "id": "1e15d694-5dab-4047-8aca-f3e0c9608b12",
   "metadata": {},
   "outputs": [],
   "source": [
    "def add_num(a, b=0):     # Positional Arguments에 default value를 줄 수 있다\n",
    "                         # 오른쪽 파라미터에 줘야 함\n",
    "    c = a+b\n",
    "    print(f\"{a} + {b} = {c}\")"
   ]
  },
  {
   "cell_type": "code",
   "execution_count": 20,
   "id": "be7b00c5-7616-4446-b0a3-9a42ba420c5e",
   "metadata": {},
   "outputs": [],
   "source": [
    "def minus_num(a, b):\n",
    "    c = a - b\n",
    "    print(f\"{a} - {b} = {c}\")"
   ]
  },
  {
   "cell_type": "code",
   "execution_count": 24,
   "id": "8e364c9b-aaa7-4325-973f-751228e3577a",
   "metadata": {},
   "outputs": [
    {
     "name": "stdout",
     "output_type": "stream",
     "text": [
      "3 + 5 = 8\n"
     ]
    }
   ],
   "source": [
    "add_num(3,5)   # Positional Arguments"
   ]
  },
  {
   "cell_type": "code",
   "execution_count": 21,
   "id": "4f374d8c-b8eb-4177-be34-4c6c654f233e",
   "metadata": {},
   "outputs": [
    {
     "name": "stdout",
     "output_type": "stream",
     "text": [
      "5 - 3 = 2\n"
     ]
    }
   ],
   "source": [
    "minus_num(b=3, a=5)   # Keyword Arguments, Position에 제한받지 않음"
   ]
  },
  {
   "cell_type": "markdown",
   "id": "c005f625-e2cf-43de-9b26-052d90543b51",
   "metadata": {},
   "source": [
    "### Variable length arguments(가변인자)\n",
    "- positional argument에 적용되는 가변인자\n",
    "- keyword argument에 적용되는 가변인자"
   ]
  },
  {
   "cell_type": "code",
   "execution_count": 28,
   "id": "0abd9240-618a-47b1-ab6b-285947470833",
   "metadata": {},
   "outputs": [
    {
     "name": "stdout",
     "output_type": "stream",
     "text": [
      "3\n",
      "15\n"
     ]
    }
   ],
   "source": [
    "# 이용자가 임의의 갯수의 정수를 어떤 함수에 전달하여 합산하고자 한다면?\n",
    "# 그 argument를 받아서 합산하는 함수는 파라미터 타입을 어떻게 선언해야 할까??\n",
    "\n",
    "def sum_it(nums):\n",
    "    print(sum(nums))\n",
    "    \n",
    "sum_it([1,2])\n",
    "sum_it([1,2,3,4,5])"
   ]
  },
  {
   "cell_type": "code",
   "execution_count": 29,
   "id": "535bd68e-cc0b-4cf5-a3bc-6e0affe334db",
   "metadata": {},
   "outputs": [],
   "source": [
    "def sum_it2(tp):\n",
    "    print(sum(tp))"
   ]
  },
  {
   "cell_type": "code",
   "execution_count": 31,
   "id": "e04e86e0-a3e5-4b6c-aca6-e5584f10e4cc",
   "metadata": {},
   "outputs": [
    {
     "name": "stdout",
     "output_type": "stream",
     "text": [
      "6\n",
      "15\n"
     ]
    }
   ],
   "source": [
    "sum_it2((1,2,3))\n",
    "sum_it2((1,2,3,4,5))"
   ]
  },
  {
   "cell_type": "code",
   "execution_count": 34,
   "id": "65324803-2ca9-4c81-9937-2ce64e0aebba",
   "metadata": {},
   "outputs": [
    {
     "name": "stdout",
     "output_type": "stream",
     "text": [
      "1\n"
     ]
    }
   ],
   "source": [
    "def sum_it3(*arg):   # Variable Length Positional Arguments\n",
    "    print(sum(arg))\n",
    "    \n",
    "sum_it3(1)"
   ]
  },
  {
   "cell_type": "code",
   "execution_count": 35,
   "id": "d9dd9222-9038-4d8e-a97c-39b31f788127",
   "metadata": {},
   "outputs": [
    {
     "name": "stdout",
     "output_type": "stream",
     "text": [
      "1\n",
      "6\n",
      "15\n"
     ]
    }
   ],
   "source": [
    "sum_it3(1)\n",
    "sum_it3(1,2,3)\n",
    "sum_it3(1,2,3,4,5)"
   ]
  },
  {
   "cell_type": "markdown",
   "id": "bd05d3a6-24f5-46bb-ad94-160fc3e41f5b",
   "metadata": {},
   "source": [
    "# tuple은 list에 비해 기능이 제한되어 있기 때문에 원소를 바꾸지 않는 한 tuple이 성능이 좋음"
   ]
  },
  {
   "cell_type": "code",
   "execution_count": 48,
   "id": "e3d90e4a-fb19-47f7-9eec-4857ff3c0b43",
   "metadata": {},
   "outputs": [],
   "source": [
    "def test(**keyarg):   # ** : 임의의 개수에 keyword argument를 다수 넣겠다\n",
    "    # print(type(keyargs))\n",
    "    print(keyarg.get('sal'))"
   ]
  },
  {
   "cell_type": "code",
   "execution_count": 49,
   "id": "49424d40-8af3-4d94-9a25-1170fed8a20d",
   "metadata": {},
   "outputs": [
    {
     "name": "stdout",
     "output_type": "stream",
     "text": [
      "None\n",
      "3000\n"
     ]
    }
   ],
   "source": [
    "# keyword argument 다수개를 파라미터로 전달할 때\n",
    "test(num=11, name='Smith', dept=10)\n",
    "test(num=12, name='Scott', sal=3000, loc='서울')"
   ]
  },
  {
   "cell_type": "markdown",
   "id": "352216fe-351c-49b8-9a4d-a106acfd85a6",
   "metadata": {},
   "source": [
    "# 파일 다루기"
   ]
  },
  {
   "cell_type": "code",
   "execution_count": 50,
   "id": "7c3acb29-fef1-4f11-8c17-3e43a0bb26d5",
   "metadata": {},
   "outputs": [],
   "source": [
    "# 파일 : 메모리가 아닌 디스크에 저장된 데이터의 집합\n",
    "# 텍스트 파일 : 저장된 데이터를 읽어서 텍스트로 디코딩해야 볼 수 있다\n",
    "# 이진 파일 : 텍스트 파일이 아닌 그 이외의 데이터를 저장한 파일\n",
    "# mode : r(읽기), w(쓰기), a(추가), x(생성), d(이진 데이터), t(텍스트), +\n",
    "# mode 설정의 예 : r(rt), wb, r+"
   ]
  },
  {
   "cell_type": "code",
   "execution_count": 51,
   "id": "c41f23b1-0522-4457-afe2-488102a71ed7",
   "metadata": {},
   "outputs": [
    {
     "name": "stdout",
     "output_type": "stream",
     "text": [
      "파일 생성 성공\n"
     ]
    }
   ],
   "source": [
    "# 파일 생성(w)\n",
    "fstream = open('my_sample.txt', 'w', encoding='UTF-8')\n",
    "fstream.write('내가 만든 파일\\n')\n",
    "fstream.close()\n",
    "print('파일 생성 성공')"
   ]
  },
  {
   "cell_type": "code",
   "execution_count": 69,
   "id": "2030854a-007f-460f-a98b-6b74af1c55a4",
   "metadata": {},
   "outputs": [
    {
     "name": "stdout",
     "output_type": "stream",
     "text": [
      "내가 만든 파일\n",
      "\n"
     ]
    }
   ],
   "source": [
    "# 위에서 생성된 파일 읽어오기\n",
    "fstream = open('my_sample.txt', encoding='UTF-8')\n",
    "data = fstream.read()\n",
    "print(data)\n",
    "fstream.close()"
   ]
  },
  {
   "cell_type": "code",
   "execution_count": 70,
   "id": "45dba317-573b-4e40-9356-f2d0ceebee41",
   "metadata": {},
   "outputs": [
    {
     "name": "stdout",
     "output_type": "stream",
     "text": [
      "파일 생성 성공\n"
     ]
    }
   ],
   "source": [
    "# 절대경로를 이용한 파일 생성\n",
    "fstream = open('C:/test/my_sample.txt', 'w', encoding='UTF-8')\n",
    "fstream.write('내가 만든 파일\\n')\n",
    "fstream.close()\n",
    "print('파일 생성 성공')"
   ]
  },
  {
   "cell_type": "markdown",
   "id": "07407e1a-f8b7-44c5-af49-a872bc89ff59",
   "metadata": {},
   "source": [
    "### 경로에 r을 붙여주면 이건 문자열이다 라는 뜻\n",
    "### - 경로 설정 3가지\n",
    "1. 경로 앞에 r + 역슬래쉬 \\\n",
    "2. r 없이 그냥 슬래쉬 /\n",
    "3. 경로에 역슬래쉬를 2번 \\\\"
   ]
  },
  {
   "cell_type": "markdown",
   "id": "1277734f-63b6-4bf9-9d49-fd6cce991279",
   "metadata": {},
   "source": [
    "## 'w' 는 기존 같은 파일이 존재하면 해당 파일 내용을 지워버리기 때문에 주의\n",
    "## 파일의 기존 내용을 유지하면서 뒤에 내용을 추가하려면 'a'모드 사용\n",
    "## 해당 이름의 파일이 없을 때만 생성하려면 'x'를 사용"
   ]
  },
  {
   "cell_type": "code",
   "execution_count": 71,
   "id": "2fac422c-17c2-4f64-973d-565261166938",
   "metadata": {},
   "outputs": [
    {
     "name": "stdout",
     "output_type": "stream",
     "text": [
      "내가 만든 파일\n",
      "\n"
     ]
    }
   ],
   "source": [
    "fstream = open(r'C:\\test\\my_sample.txt', encoding='UTF-8') \n",
    "# 'w' 는 기존 같은 파일이 존재하면 해당 파일 내용을 지워버리기 때문에 주의\n",
    "data = fstream.read()\n",
    "print(data)\n",
    "fstream.close()"
   ]
  },
  {
   "cell_type": "code",
   "execution_count": 72,
   "id": "2a23f2f3-127c-4503-9706-219486094a3e",
   "metadata": {},
   "outputs": [
    {
     "name": "stdout",
     "output_type": "stream",
     "text": [
      "내가 만든 파일\n",
      "\n"
     ]
    }
   ],
   "source": [
    "# 파일을 열 때 with 블럭을 사용하면 블럭이 모두 실행된 후에 자동으로 close()됨\n",
    "with open(r'C:\\test\\my_sample.txt', encoding='UTF-8') as fstream:\n",
    "    data = fstream.read()\n",
    "    print(data)"
   ]
  },
  {
   "cell_type": "code",
   "execution_count": 76,
   "id": "8c7fcd75-c2a0-4d30-8288-d88a6358a0e4",
   "metadata": {},
   "outputs": [
    {
     "data": {
      "text/plain": [
       "True"
      ]
     },
     "execution_count": 76,
     "metadata": {},
     "output_type": "execute_result"
    }
   ],
   "source": [
    "# 현재 작업 디렉토리에 포함된 내용 목록 보기\n",
    "import os\n",
    "os.listdir()\n",
    "\n",
    "# 파일인지 디렉토리인지 구분이 안될 때\n",
    "os.path.isfile('day03_0816.ipynb')"
   ]
  },
  {
   "cell_type": "code",
   "execution_count": 78,
   "id": "e6e1f5fc-c0a3-4b6d-8e5b-86a3414a2dd7",
   "metadata": {},
   "outputs": [
    {
     "data": {
      "text/plain": [
       "'C:/test\\\\testfile.txt'"
      ]
     },
     "execution_count": 78,
     "metadata": {},
     "output_type": "execute_result"
    }
   ],
   "source": [
    "abspath = os.path.join('C:/test', 'testfile.txt')\n",
    "abspath"
   ]
  },
  {
   "cell_type": "markdown",
   "id": "a134d328-8cbd-4ac7-951a-eb9fef4b15e1",
   "metadata": {},
   "source": [
    "## 시간 Format"
   ]
  },
  {
   "cell_type": "code",
   "execution_count": 79,
   "id": "593a1dfb-fce5-4e2c-9a40-266cd0beb0e7",
   "metadata": {},
   "outputs": [
    {
     "data": {
      "text/plain": [
       "datetime.datetime(2022, 8, 17, 12, 8, 48, 745426)"
      ]
     },
     "execution_count": 79,
     "metadata": {},
     "output_type": "execute_result"
    }
   ],
   "source": [
    "import datetime\n",
    "datetime.datetime.now()"
   ]
  },
  {
   "cell_type": "code",
   "execution_count": 80,
   "id": "9edcb50c-0e83-437b-b207-cc6c8de44b43",
   "metadata": {},
   "outputs": [
    {
     "data": {
      "text/plain": [
       "datetime.datetime(2022, 8, 17, 12, 11, 10, 278615)"
      ]
     },
     "execution_count": 80,
     "metadata": {},
     "output_type": "execute_result"
    }
   ],
   "source": [
    "from datetime import datetime\n",
    "datetime.now()"
   ]
  },
  {
   "cell_type": "code",
   "execution_count": 82,
   "id": "65465aa3-decc-44c2-bbc0-d1c74322abdc",
   "metadata": {},
   "outputs": [
    {
     "data": {
      "text/plain": [
       "'2022-08-17-12-14-23-623951'"
      ]
     },
     "execution_count": 82,
     "metadata": {},
     "output_type": "execute_result"
    }
   ],
   "source": [
    "time_now = datetime.now()\n",
    "time_now.strftime('%Y-%m-%d-%H-%M-%S-%f')"
   ]
  },
  {
   "cell_type": "markdown",
   "id": "4ab47397-0b78-4cba-bf35-862cc852edb8",
   "metadata": {},
   "source": [
    "### 현재 시간을 구해서 시간 문자열을 생성하고 그 문자열을 파일명으로 하여 파일 생성\n",
    "- 파일 내용에는 연, 월, 일, 시, 분, 초를 한 행에 한 항목씩 기록\n",
    "- 쓰기 작업 완료 후 close(), 다시 해당 파일을 읽어서 화면에 표시"
   ]
  },
  {
   "cell_type": "code",
   "execution_count": 107,
   "id": "a5e5e02f-6965-4695-84f9-8a20ed8199cb",
   "metadata": {
    "tags": []
   },
   "outputs": [
    {
     "name": "stdout",
     "output_type": "stream",
     "text": [
      "파일생성 완료 - C:/test\\2022-08-17-13-00-28-700535.txt\n",
      "2022\n",
      "08\n",
      "17\n",
      "13\n",
      "00\n",
      "28\n",
      "\n"
     ]
    }
   ],
   "source": [
    "time_now = datetime.now()\n",
    "time = time_now.strftime('%Y-%m-%d-%H-%M-%S-%f')\n",
    "time_list = time.split('-')\n",
    "\n",
    "abspath2 = os.path.join('C:/test', time + '.txt')\n",
    "\n",
    "with open(abspath2, 'w', encoding='UTF-8') as fstream:\n",
    "    fstream.write(time_list[0]+'\\n')\n",
    "    fstream.write(time_list[1]+'\\n')\n",
    "    fstream.write(time_list[2]+'\\n')\n",
    "    fstream.write(time_list[3]+'\\n')\n",
    "    fstream.write(time_list[4]+'\\n')\n",
    "    fstream.write(time_list[5]+'\\n')\n",
    "    print('파일생성 완료 - ' + abspath2 )\n",
    "\n",
    "with open(abspath2, encoding='UTF-8') as fstream:\n",
    "    data = fstream.read()\n",
    "    print(data)"
   ]
  },
  {
   "cell_type": "markdown",
   "id": "58dccd51-58ad-4496-ae78-969f43080551",
   "metadata": {},
   "source": [
    "### 지정된 파일이 없는 경우에만 파일 생성하기"
   ]
  },
  {
   "cell_type": "code",
   "execution_count": 91,
   "id": "4c394912-e412-4303-bf5d-bbc92028b316",
   "metadata": {},
   "outputs": [
    {
     "name": "stdout",
     "output_type": "stream",
     "text": [
      "기존 파일이 있습니다.[Errno 17] File exists: 'sample.txt'\n",
      "작업 완료\n"
     ]
    }
   ],
   "source": [
    "try:\n",
    "    with open('sample.txt', 'x', encoding='UTF-8') as fstream:\n",
    "        print('파일을 새로 생성함')\n",
    "except FileExistsError as fe: # FileExistsError\n",
    "    # try 블록에서 예외가 생기면 무조건 except: 로 가게 됨\n",
    "    # print(dir(fe))\n",
    "    print('기존 파일이 있습니다.' + str(fe))\n",
    "finally:\n",
    "    print('작업 완료')"
   ]
  },
  {
   "cell_type": "markdown",
   "id": "3c189cdb-1098-4cab-a72a-9991a5ba84db",
   "metadata": {},
   "source": [
    "### - 파일 복사"
   ]
  },
  {
   "cell_type": "code",
   "execution_count": null,
   "id": "88927bc9-8afd-4c89-8071-7fa3e4d74c31",
   "metadata": {},
   "outputs": [],
   "source": [
    "import shutil\n",
    "shutil.copy('src_file', 'dst_file')   # 'src_file' 의 파일 내용이 'dst_file'로 복사됨"
   ]
  },
  {
   "cell_type": "markdown",
   "id": "0848bc8b-8ea3-44df-811e-ccf31b6b85d9",
   "metadata": {},
   "source": [
    "### - 파일명 변경"
   ]
  },
  {
   "cell_type": "code",
   "execution_count": null,
   "id": "0383c50e-13a5-4c0a-9bc2-f94c1f9a048a",
   "metadata": {},
   "outputs": [],
   "source": [
    "import os\n",
    "os.rename('old_name', 'new_name')"
   ]
  },
  {
   "cell_type": "markdown",
   "id": "201db5ab-9e31-4893-9765-88718e297eaa",
   "metadata": {},
   "source": [
    "### - 파일 삭제"
   ]
  },
  {
   "cell_type": "code",
   "execution_count": null,
   "id": "89841f0b-f787-491f-9980-fb14c52323aa",
   "metadata": {},
   "outputs": [],
   "source": [
    "import os\n",
    "os.remove('file_name')"
   ]
  },
  {
   "cell_type": "markdown",
   "id": "a055fbe4-318d-4c23-916d-570b1c9c86dc",
   "metadata": {},
   "source": [
    "### - 이진 파일(text가 아닌 파일)을 읽어 오려면"
   ]
  },
  {
   "cell_type": "code",
   "execution_count": 113,
   "id": "96e41da9-a9dc-4bad-8a5f-60868ff6f762",
   "metadata": {},
   "outputs": [
    {
     "name": "stdout",
     "output_type": "stream",
     "text": [
      "이미지 파일 복사 완료\n"
     ]
    }
   ],
   "source": [
    "fstream = open(r'C:\\test\\sample.jpg', 'rb')\n",
    "data = fstream.read()\n",
    "fstream.close()\n",
    "\n",
    "fstream = open(r'C:\\test\\sample_cpy.jpg', 'wb')\n",
    "fstream.write(data)\n",
    "fstream.close()\n",
    "\n",
    "print('이미지 파일 복사 완료')"
   ]
  },
  {
   "cell_type": "code",
   "execution_count": 114,
   "id": "ebb80c95-c74f-421c-9cf7-cc154e3775ea",
   "metadata": {},
   "outputs": [],
   "source": [
    "fstream = open('C:/test/emp.txt', encoding='UTF-8')\n",
    "#dir(fstream)"
   ]
  },
  {
   "cell_type": "code",
   "execution_count": 115,
   "id": "d16932da-3410-4da5-890b-d4593af3f44b",
   "metadata": {},
   "outputs": [
    {
     "name": "stdout",
     "output_type": "stream",
     "text": [
      "11 smith 010-1234-2222 smith@gmail.com\n",
      "12 scott 010-3333-5555 scott@daum.net\n"
     ]
    }
   ],
   "source": [
    "data = fstream.read()\n",
    "print(data)\n",
    "fstream.close()"
   ]
  },
  {
   "cell_type": "markdown",
   "id": "d0cbe71c-a613-43f5-9555-29739f91c6fb",
   "metadata": {},
   "source": [
    "### txt파일에서 특정 이름의 행 정보 가져오기"
   ]
  },
  {
   "cell_type": "code",
   "execution_count": 7,
   "id": "5d3a8676-7506-479e-9720-34f1f959ff0f",
   "metadata": {
    "tags": []
   },
   "outputs": [
    {
     "name": "stdout",
     "output_type": "stream",
     "text": [
      "12 scott 010-3333-5555 scott@daum.net\n",
      "파일 읽기 완료\n"
     ]
    }
   ],
   "source": [
    "with open('C:/test/emp.txt', encoding='UTF-8') as fin:\n",
    "    for line in fin:\n",
    "        if 'scott' in line:\n",
    "            print(line)\n",
    "print('파일 읽기 완료')"
   ]
  },
  {
   "cell_type": "code",
   "execution_count": 9,
   "id": "27df8894-576a-4536-afe6-9680ae6a71c5",
   "metadata": {},
   "outputs": [
    {
     "name": "stdout",
     "output_type": "stream",
     "text": [
      "12 scott 010-3333-5555 scott@daum.net\n",
      "파일 읽기 완료\n"
     ]
    }
   ],
   "source": [
    "with open('C:/test/emp.txt', encoding='UTF-8') as fin:\n",
    "    for line in fin:\n",
    "        _,name,_,_ = line.split()\n",
    "        if name == 'scott':\n",
    "            print(line.strip())\n",
    "print('파일 읽기 완료')"
   ]
  },
  {
   "cell_type": "markdown",
   "id": "e91dca31-848c-4685-b334-4e061679f3d3",
   "metadata": {},
   "source": [
    "### 파일 Stream은 루프에서 사용할 수 있을까?"
   ]
  },
  {
   "cell_type": "code",
   "execution_count": 4,
   "id": "7b97b593-d702-4add-9eed-d69468f1fe90",
   "metadata": {},
   "outputs": [
    {
     "name": "stdout",
     "output_type": "stream",
     "text": [
      "True\n"
     ]
    }
   ],
   "source": [
    "fin = open('C:/test/emp.txt', encoding='UTF-8')\n",
    "print(hasattr(fin, '__iter__')) # True, 'iter' 속성을 가지고 있으면 루프를 돌릴 수 있는 것\n",
    "fin.close()"
   ]
  },
  {
   "cell_type": "markdown",
   "id": "3765dee7-e2cc-45ce-84c7-fa72d503c52d",
   "metadata": {},
   "source": [
    "### 텍스트 파일의 행 단위로 읽어오기 "
   ]
  },
  {
   "cell_type": "code",
   "execution_count": 5,
   "id": "41473b5d-8a8d-4842-a0fc-c1f1d70ef528",
   "metadata": {},
   "outputs": [
    {
     "name": "stdout",
     "output_type": "stream",
     "text": [
      "11 smith 010-1234-2222 smith@gmail.com\n",
      "12 scott 010-3333-5555 scott@daum.net\n",
      "file reading completed\n"
     ]
    }
   ],
   "source": [
    "with open(\"C:/test/emp.txt\", encoding='UTF-8') as fin:\n",
    "    for line in fin:\n",
    "        print(line.strip())\n",
    "print('file reading completed')"
   ]
  },
  {
   "cell_type": "markdown",
   "id": "81b6703b-fe79-4fed-84ec-e552d90589c9",
   "metadata": {},
   "source": [
    "## Update _ 텍스트 파일 특정 행 데이터 변경하기\n",
    "1. 한 행씩 읽어온다 (디스크에서 메모리에 로드한다)\n",
    "2. 변경 대상 행이라면 그 행 안의 전화번호만 변경하여 메모리에 로드한다\n",
    "3. 텍스트 파일의 내용이 전체 로드되면 다시 디스크에 덮어쓴다."
   ]
  },
  {
   "cell_type": "code",
   "execution_count": 29,
   "id": "2158caac-cdda-47f2-9d7c-22473eea2fde",
   "metadata": {},
   "outputs": [
    {
     "name": "stdout",
     "output_type": "stream",
     "text": [
      "수정 완료\n",
      "11 smith 010-1111-1111 smith@naver.com\n",
      "12 scott 010-7777-7777 scott@naver.com\n"
     ]
    }
   ],
   "source": [
    "emp_list = []\n",
    "with open('C:/test/emp.txt', encoding='UTF-8') as fin:\n",
    "    for line in fin:\n",
    "        num,name,phone,email = line.split()\n",
    "        if name == 'scott':\n",
    "            phone = '010-7777-7777'\n",
    "            line = '{} {} {} {}'.format(num,name,phone,email)\n",
    "        emp_list.append(line)\n",
    "emp_list\n",
    "        \n",
    "with open('C:/test/emp.txt', 'w', encoding='UTF-8') as fout:\n",
    "        fout.writelines(emp_list)\n",
    "print('수정 완료')\n",
    "\n",
    "with open('C:/test/emp.txt', encoding='UTF-8') as fin:\n",
    "    print(fin.read())"
   ]
  },
  {
   "cell_type": "code",
   "execution_count": 31,
   "id": "c4c96b1f-3608-497e-8882-13ced89f57e2",
   "metadata": {},
   "outputs": [
    {
     "name": "stdout",
     "output_type": "stream",
     "text": [
      "수정 완료\n",
      "11 smith 010-1111-1111 smith@naver.com\n",
      "13 ward 010-3333-3333 ward@gmail.com\n"
     ]
    }
   ],
   "source": [
    "emp_list = []\n",
    "with open('C:/test/emp.txt', encoding='UTF-8') as fin:\n",
    "    for line in fin:\n",
    "        num,name,phone,email = line.split()\n",
    "        if name == 'scott':\n",
    "            continue\n",
    "        emp_list.append(line)\n",
    "emp_list\n",
    "        \n",
    "with open('C:/test/emp.txt', 'w', encoding='UTF-8') as fout:\n",
    "        fout.writelines(emp_list)\n",
    "print('수정 완료')\n",
    "\n",
    "with open('C:/test/emp.txt', encoding='UTF-8') as fin:\n",
    "    print(fin.read())"
   ]
  },
  {
   "cell_type": "markdown",
   "id": "974709d3-c75b-4f6e-80bd-34b66f74bfbb",
   "metadata": {},
   "source": [
    "---------------------------------------\n",
    "### 파일에 한행 추가\n",
    "- mode 'a'\n",
    "- fout.write('xxxxxx\\n') # 파일에 이어쓰기\n",
    "\n",
    "### 파일로부터 목록 읽어오기\n",
    "- fin.read()\n",
    "- fin.readline() or for 사용\n",
    "- fin.readlines()\n",
    "\n",
    "### 파일로부터 한 행 읽어오기\n",
    "- fin.readline() or for 사용\n",
    "\n",
    "### 파일의 특정 행 수정하기\n",
    "- fin.readline() or for 사용\n",
    "- 검색 / 로드 / 덮어쓰기\n",
    "\n",
    "### 파일의 특정 행 삭제하기\n",
    "- fin.readline() or for 사용 -> 한 행씩 읽어오기\n",
    "- 대상 행만 로드하지 않음\n",
    "- 로드된 데이터를 파일에 덮어쓰기\n",
    "\n",
    "## 회원관리 프로그램 작성(mem.txt)\n",
    "Member클래스\n",
    "- num, name, phone, email\n",
    "- 목록(s), 추가(a), 검색(f), 수정(u), 삭제(d), 종료(x)"
   ]
  },
  {
   "cell_type": "code",
   "execution_count": 1,
   "id": "c30c1160-12b3-4218-9d4b-d703bc4b4afd",
   "metadata": {},
   "outputs": [],
   "source": [
    "class Member:\n",
    "    \n",
    "    def __init__(self, num, name, phone, email):\n",
    "        self.id = id\n",
    "        self.num = num\n",
    "        self.name = name\n",
    "        self.name = phone\n",
    "        self.name = email\n",
    "        \n",
    "    def __str__(self):\n",
    "        return '{}\\t{}\\t{}\\t{}'.format(self.num, self.name, self.phone, self.email)\n",
    "    \n",
    "    def __eq__(self, other):\n",
    "        return self.num==other.num\n",
    "    \n",
    "    def __hash__(self):\n",
    "        return hash(self.id)\n",
    "    \n",
    "m_dic = {'s':'LIST', 'a':'ADD', 'f':'FIND', 'u':'UPDATE', 'd':'DELETE', 'x':'EXIT'}"
   ]
  },
  {
   "cell_type": "code",
   "execution_count": 2,
   "id": "fa539b48-26bf-487c-b543-d56ea9ef89f3",
   "metadata": {},
   "outputs": [],
   "source": [
    "def program():\n",
    "    print('------------------------------------------------------------')\n",
    "    m_input = input(' 메뉴 => 목록(s), 추가(a), 검색(f), 수정(u), 삭제(d), 종료(x):')\n",
    "    return m_dic.get(m_input)\n",
    "\n",
    "def print_mem():\n",
    "    print('------------------------------------------------------------')\n",
    "    with open('C:/test/mem.txt', encoding='UTF-8') as fin:\n",
    "        print(fin.read())\n",
    "        # for line in fin:\n",
    "        #     member_list.append(line)\n",
    "    print('------------------------------------------------------------')\n",
    "        \n",
    "def add_mem():\n",
    "    strEmp = input('num name phone email : ')\n",
    "    num,name,phone,email = strEmp.split()\n",
    "    if len(strEmp.split()) != 4:\n",
    "        print('입력 오류')\n",
    "        return\n",
    "    \n",
    "    with open('C:/test/mem.txt', 'a', encoding='UTF-8') as fout:\n",
    "        fout.write('{} {} {} {}\\n'.format(num,name,phone,email))\n",
    "        \n",
    "    member_list.append(Member(num, name, phone, email))\n",
    "    print('추가 성공')\n",
    "    print_mem()\n",
    "\n",
    "def del_mem():\n",
    "    numMem = input('삭제할 Num : ')\n",
    "    with open('C:/test/mem.txt', encoding='UTF-8') as fin:\n",
    "        list = []\n",
    "        for line in fin:\n",
    "            num,name,phone,email = line.split()\n",
    "            if num == numMem:\n",
    "                continue\n",
    "            line = '{} {} {} {}\\n'.format(num,name,phone,email)\n",
    "            list.append(line)\n",
    "            \n",
    "    with open('C:/test/mem.txt', 'w', encoding='UTF-8') as fout:\n",
    "        fout.writelines(list)\n",
    "        \n",
    "    print('삭제 완료')\n",
    "        \n",
    "def search_mem():\n",
    "    id = input('검색할 Num : ')\n",
    "    with open('C:/test/mem.txt', encoding='UTF-8') as fin:\n",
    "        for line in fin:\n",
    "            num,name,phone,email = line.split()\n",
    "            if num == id:\n",
    "                print('{} {} {} {}'.format(num,name,phone,email))\n",
    "                break\n",
    "    \n",
    "def update_mem():\n",
    "    id = input('수정할 Num : ')\n",
    "    # emp2 = emp_dic.get(id)\n",
    "    update = input('수정할 속성 : 이름(1) / 전화번호(2) / 이메일(3) ')\n",
    "    list = []\n",
    "    with open('C:/test/mem.txt', encoding='UTF-8') as fin:\n",
    "        for line in fin:\n",
    "            num,name,phone,email = line.split()\n",
    "            if id == num:\n",
    "                if update == '1':\n",
    "                    newName = input('수정할 이름 : ')\n",
    "                    name = newName\n",
    "                    line = '{} {} {} {}\\n'.format(num,name,phone,email)\n",
    "                elif update == '2':\n",
    "                    newName = input('수정할 전화번호 : ')\n",
    "                    phone = newPhone\n",
    "                    line = '{} {} {} {}\\n'.format(num,name,phone,email)\n",
    "                elif update == '3':\n",
    "                    newName = input('수정할 이메일 : ')\n",
    "                    email = newEmail\n",
    "                    line = '{} {} {} {}\\n'.format(num,name,phone,email)\n",
    "                else:\n",
    "                    print('잘못된 속성입니다.')\n",
    "            list.append(line)\n",
    "        \n",
    "    with open('C:/test/mem.txt', 'w', encoding='UTF-8') as fout:\n",
    "        fout.writelines(list)\n",
    "        \n",
    "    print_mem()"
   ]
  },
  {
   "cell_type": "code",
   "execution_count": null,
   "id": "c7ef591a-5116-4804-a1ea-819af8d8318b",
   "metadata": {},
   "outputs": [
    {
     "name": "stdout",
     "output_type": "stream",
     "text": [
      "------------------------------------------------------------\n"
     ]
    },
    {
     "name": "stdin",
     "output_type": "stream",
     "text": [
      " 메뉴 => 목록(s), 추가(a), 검색(f), 수정(u), 삭제(d), 종료(x): a\n",
      "num name phone email :  14 tom 010-4444-4444 tom@naver.com\n"
     ]
    },
    {
     "name": "stdout",
     "output_type": "stream",
     "text": [
      "추가 성공\n",
      "------------------------------------------------------------\n",
      "11 smith 010-1111-1111 smith@naver.com\n",
      "12 scott 010-2222-2222 scott@naver.com\n",
      "13 grace 010-3333-3333 ward@gmail.com\t14 tom 010-4444-4444 tom@naver.com\n",
      "------------------------------------------------------------\n",
      "------------------------------------------------------------\n"
     ]
    }
   ],
   "source": [
    "member_list = []\n",
    "\n",
    "go = True\n",
    "while go:\n",
    "    m = program()\n",
    "    if m=='LIST':\n",
    "        print_mem()\n",
    "    elif m=='ADD':\n",
    "        add_mem()\n",
    "    elif m=='FIND':\n",
    "        search_mem()\n",
    "    elif m=='UPDATE':\n",
    "        update_mem()\n",
    "    elif m=='DELETE':\n",
    "        del_mem()\n",
    "    elif m=='EXIT':\n",
    "        go = False\n",
    "    else:\n",
    "        print('메뉴 입력 오류')\n",
    "print('프로그램 종료...')"
   ]
  },
  {
   "cell_type": "code",
   "execution_count": null,
   "id": "aa76342e-461e-476a-b13d-07f8d7fe14b8",
   "metadata": {},
   "outputs": [],
   "source": []
  }
 ],
 "metadata": {
  "kernelspec": {
   "display_name": "Python 3 (ipykernel)",
   "language": "python",
   "name": "python3"
  },
  "language_info": {
   "codemirror_mode": {
    "name": "ipython",
    "version": 3
   },
   "file_extension": ".py",
   "mimetype": "text/x-python",
   "name": "python",
   "nbconvert_exporter": "python",
   "pygments_lexer": "ipython3",
   "version": "3.9.12"
  }
 },
 "nbformat": 4,
 "nbformat_minor": 5
}
