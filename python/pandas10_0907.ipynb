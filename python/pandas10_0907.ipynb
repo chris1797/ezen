{
 "cells": [
  {
   "cell_type": "markdown",
   "id": "67f923ad",
   "metadata": {},
   "source": [
    "## sciktlearn 패키지를 활용한 선형회귀 (Linear Regression)\n",
    "### 직선의 방정식\n",
    "- y = ax + b"
   ]
  },
  {
   "cell_type": "markdown",
   "id": "91c8e119",
   "metadata": {},
   "source": [
    "- 무작위 데이터\n",
    "- make_regression()\n",
    "- 당뇨병 관련 10가지 진단 데이터 : 당뇨병 지수 추정\n",
    "\n",
    "## Data ( 학습용 / 검증용 )\n",
    "- model.fit ( 학습용 데이터(x,y)) # 학습\n",
    "- model.predict(x)   # 학습된 모델을 사용하여 추정\n",
    "- model.score(x,y)   # 정확도\n",
    "- y = ax + b.  # a : 계수(coef_), b : 절편(intercept_)\n",
    "\n",
    "y = a1 * x1 + a2 * x2 + ...\n",
    "집값 : 평수, 전철, 위치, 학군 등..\n",
    "\n",
    "[ \n",
    "\n",
    "[x1, x2, ...],  \n",
    " ...   \n",
    "]"
   ]
  },
  {
   "cell_type": "code",
   "execution_count": 21,
   "id": "90e0cc7b",
   "metadata": {},
   "outputs": [
    {
     "data": {
      "text/plain": [
       "array([ 0,  1,  2,  3,  4,  5,  6,  7,  8,  9, 10, 11, 12, 13, 14, 15, 16,\n",
       "       17, 18, 19, 20, 21, 22, 23, 24, 25, 26, 27, 28, 29, 30, 31, 32, 33,\n",
       "       34, 35, 36, 37, 38, 39, 40, 41, 42, 43, 44, 45, 46, 47, 48, 49, 50,\n",
       "       51, 52, 53, 54, 55, 56, 57, 58, 59, 60, 61, 62, 63, 64, 65, 66, 67,\n",
       "       68, 69, 70, 71, 72, 73, 74, 75, 76, 77, 78, 79, 80, 81, 82, 83, 84,\n",
       "       85, 86, 87, 88, 89, 90, 91, 92, 93, 94, 95, 96, 97, 98, 99])"
      ]
     },
     "execution_count": 21,
     "metadata": {},
     "output_type": "execute_result"
    }
   ],
   "source": [
    "import numpy as np\n",
    "np.random.seed()\n",
    "\n",
    "x = np.arange(100)\n",
    "x"
   ]
  },
  {
   "cell_type": "code",
   "execution_count": 2,
   "id": "28daa3a3",
   "metadata": {},
   "outputs": [
    {
     "data": {
      "text/plain": [
       "[<matplotlib.lines.Line2D at 0x7fd268a21af0>]"
      ]
     },
     "execution_count": 2,
     "metadata": {},
     "output_type": "execute_result"
    },
    {
     "data": {
      "image/png": "[encoded data removed]",
      "text/plain": [
       "<Figure size 432x288 with 1 Axes>"
      ]
     },
     "metadata": {
      "needs_background": "light"
     },
     "output_type": "display_data"
    }
   ],
   "source": [
    "import matplotlib.pyplot as plt\n",
    "\n",
    "plt.plot(x)"
   ]
  },
  {
   "cell_type": "code",
   "execution_count": 34,
   "id": "44c35598",
   "metadata": {},
   "outputs": [
    {
     "data": {
      "image/png": "[encoded data removed]",
      "text/plain": [
       "<Figure size 432x288 with 1 Axes>"
      ]
     },
     "metadata": {
      "needs_background": "light"
     },
     "output_type": "display_data"
    }
   ],
   "source": [
    "rd = np.random.randint(-15,15,100)\n",
    "\n",
    "y = x + rd\n",
    "plt.plot(x)\n",
    "plt.scatter(x,y)\n",
    "plt.show()"
   ]
  },
  {
   "cell_type": "code",
   "execution_count": 7,
   "id": "7257c207",
   "metadata": {},
   "outputs": [],
   "source": [
    "x_train = x[:80]\n",
    "y_train = y[:80]\n",
    "\n",
    "x_test = x[-20:]\n",
    "y_test = y[-20:]"
   ]
  },
  {
   "cell_type": "code",
   "execution_count": 10,
   "id": "b479a7d6",
   "metadata": {},
   "outputs": [],
   "source": [
    "x_train = x_train.reshape(-1, 1)   # 2차원으로 바꿔줌"
   ]
  },
  {
   "cell_type": "code",
   "execution_count": 12,
   "id": "c7fb65eb",
   "metadata": {},
   "outputs": [
    {
     "data": {
      "text/plain": [
       "(80, 1)"
      ]
     },
     "execution_count": 12,
     "metadata": {},
     "output_type": "execute_result"
    }
   ],
   "source": [
    "x_train.shape  "
   ]
  },
  {
   "cell_type": "code",
   "execution_count": 8,
   "id": "df5f5fee",
   "metadata": {},
   "outputs": [],
   "source": [
    "from sklearn import linear_model\n",
    "linreg = linear_model.LinearRegression()"
   ]
  },
  {
   "cell_type": "code",
   "execution_count": 11,
   "id": "2b16ebe1",
   "metadata": {},
   "outputs": [
    {
     "data": {
      "text/plain": [
       "LinearRegression()"
      ]
     },
     "execution_count": 11,
     "metadata": {},
     "output_type": "execute_result"
    }
   ],
   "source": [
    "linreg.fit(x_train, y_train)   # x_train이 2차원이어야 함"
   ]
  },
  {
   "cell_type": "markdown",
   "id": "6ba17da1",
   "metadata": {},
   "source": [
    "linreg 에 절편, 계수가 생김 ↓"
   ]
  },
  {
   "cell_type": "code",
   "execution_count": 14,
   "id": "8fb088a1",
   "metadata": {},
   "outputs": [
    {
     "data": {
      "text/plain": [
       "(array([0.95958744]), 1.396296296296292)"
      ]
     },
     "execution_count": 14,
     "metadata": {},
     "output_type": "execute_result"
    }
   ],
   "source": [
    "linreg.coef_, linreg.intercept_"
   ]
  },
  {
   "cell_type": "code",
   "execution_count": 15,
   "id": "2c11a1a5",
   "metadata": {},
   "outputs": [
    {
     "data": {
      "text/plain": [
       "array([78.16329114, 79.12287857, 80.08246601, 81.04205345, 82.00164088,\n",
       "       82.96122832, 83.92081575, 84.88040319, 85.83999062, 86.79957806,\n",
       "       87.75916549, 88.71875293, 89.67834037, 90.6379278 , 91.59751524,\n",
       "       92.55710267, 93.51669011, 94.47627754, 95.43586498, 96.39545241])"
      ]
     },
     "execution_count": 15,
     "metadata": {},
     "output_type": "execute_result"
    }
   ],
   "source": [
    "linreg.predict(x_test.reshape(-1,1))   # 2차원으로 맞춰줌"
   ]
  },
  {
   "cell_type": "code",
   "execution_count": 16,
   "id": "abebd630",
   "metadata": {},
   "outputs": [
    {
     "data": {
      "text/plain": [
       "0.2716244265109832"
      ]
     },
     "execution_count": 16,
     "metadata": {},
     "output_type": "execute_result"
    }
   ],
   "source": [
    "linreg.score(x_test.reshape(-1,1), y_test)"
   ]
  },
  {
   "cell_type": "code",
   "execution_count": 40,
   "id": "c95f4290",
   "metadata": {},
   "outputs": [
    {
     "data": {
      "text/plain": [
       "(0.0, 100.0, 0.0, 100.0)"
      ]
     },
     "execution_count": 40,
     "metadata": {},
     "output_type": "execute_result"
    },
    {
     "data": {
      "image/png": "[encoded data removed]",
      "text/plain": [
       "<Figure size 432x288 with 1 Axes>"
      ]
     },
     "metadata": {
      "needs_background": "light"
     },
     "output_type": "display_data"
    }
   ],
   "source": [
    "a = linreg.coef_\n",
    "b = linreg.intercept_\n",
    "y = 0.5*x + 20\n",
    "noise = np.random.randint(-10,10,100)\n",
    "y2 = y + noise\n",
    "\n",
    "plt.scatter(x,y2, s=8)\n",
    "\n",
    "# plt.ylim(0,100)\n",
    "plt.axis([0,100,0,100])"
   ]
  },
  {
   "cell_type": "code",
   "execution_count": 25,
   "id": "f7ddbc1e",
   "metadata": {},
   "outputs": [],
   "source": [
    "x2_test = [[150],[200]]"
   ]
  },
  {
   "cell_type": "code",
   "execution_count": 26,
   "id": "88d191cc",
   "metadata": {},
   "outputs": [
    {
     "data": {
      "text/plain": [
       "array([145.33441163, 193.3137834 ])"
      ]
     },
     "execution_count": 26,
     "metadata": {},
     "output_type": "execute_result"
    }
   ],
   "source": [
    "linreg.predict(x2_test)"
   ]
  },
  {
   "cell_type": "code",
   "execution_count": null,
   "id": "2d341c1f",
   "metadata": {},
   "outputs": [],
   "source": [
    "x = np.arange(100)\n",
    "y = x + rd\n",
    "rd = np.random.randint(-15,15,100)\n"
   ]
  },
  {
   "cell_type": "code",
   "execution_count": 42,
   "id": "bb7f50da",
   "metadata": {},
   "outputs": [
    {
     "data": {
      "text/plain": [
       "(0.0, 100.0, 0.0, 100.0)"
      ]
     },
     "execution_count": 42,
     "metadata": {},
     "output_type": "execute_result"
    },
    {
     "data": {
      "image/png": "[encoded data removed]",
      "text/plain": [
       "<Figure size 432x288 with 1 Axes>"
      ]
     },
     "metadata": {
      "needs_background": "light"
     },
     "output_type": "display_data"
    }
   ],
   "source": [
    "x = np.arange(100)\n",
    "y = 0.5*x + 20\n",
    "noise = np.random.randint(-10,10,100)\n",
    "y2 = y + noise\n",
    "\n",
    "plt.scatter(x,y2, s=8)\n",
    "\n",
    "# plt.ylim(0,100)\n",
    "plt.axis([0,100,0,100])"
   ]
  },
  {
   "cell_type": "code",
   "execution_count": 43,
   "id": "130c5c67",
   "metadata": {},
   "outputs": [],
   "source": [
    "x2_train = x[:80]\n",
    "y2_train = y2[:80]\n",
    "\n",
    "x2_test = x[-20:]\n",
    "y2_test = y2[-20:]"
   ]
  },
  {
   "cell_type": "code",
   "execution_count": 48,
   "id": "ad3d2e52",
   "metadata": {},
   "outputs": [],
   "source": [
    "linreg2 = linear_model.LinearRegression()"
   ]
  },
  {
   "cell_type": "code",
   "execution_count": 50,
   "id": "a6cb0e69",
   "metadata": {},
   "outputs": [
    {
     "data": {
      "text/plain": [
       "LinearRegression()"
      ]
     },
     "execution_count": 50,
     "metadata": {},
     "output_type": "execute_result"
    }
   ],
   "source": [
    "linreg2.fit(x2_train.reshape(-1,1), y2_train)"
   ]
  },
  {
   "cell_type": "code",
   "execution_count": 51,
   "id": "4b95433b",
   "metadata": {
    "scrolled": false
   },
   "outputs": [
    {
     "data": {
      "text/plain": [
       "array([60.96392405, 61.47136662, 61.97880919, 62.48625176, 62.99369433,\n",
       "       63.5011369 , 64.00857947, 64.51602203, 65.0234646 , 65.53090717,\n",
       "       66.03834974, 66.54579231, 67.05323488, 67.56067745, 68.06812002,\n",
       "       68.57556259, 69.08300516, 69.59044773, 70.0978903 , 70.60533286])"
      ]
     },
     "execution_count": 51,
     "metadata": {},
     "output_type": "execute_result"
    }
   ],
   "source": [
    "linreg2.predict(x2_test.reshape(-1,1))"
   ]
  },
  {
   "cell_type": "code",
   "execution_count": 52,
   "id": "cc15f3f9",
   "metadata": {},
   "outputs": [
    {
     "data": {
      "text/plain": [
       "(array([0.50744257]), 20.368518518518524)"
      ]
     },
     "execution_count": 52,
     "metadata": {},
     "output_type": "execute_result"
    }
   ],
   "source": [
    "linreg2.coef_, linreg2.intercept_"
   ]
  },
  {
   "cell_type": "code",
   "execution_count": 46,
   "id": "1aee3d77",
   "metadata": {},
   "outputs": [
    {
     "data": {
      "text/plain": [
       "-17.257812217992914"
      ]
     },
     "execution_count": 46,
     "metadata": {},
     "output_type": "execute_result"
    }
   ],
   "source": [
    "linreg.score(x2_test.reshape(-1,1), y2_test)"
   ]
  },
  {
   "cell_type": "markdown",
   "id": "7ad6288c",
   "metadata": {},
   "source": [
    "## 대부분의 머신러닝은 ax+b의 가중치를 알아내는 것이 목표"
   ]
  },
  {
   "cell_type": "code",
   "execution_count": 54,
   "id": "c0957604",
   "metadata": {},
   "outputs": [
    {
     "ename": "IndexError",
     "evalue": "index 1 is out of bounds for axis 0 with size 1",
     "output_type": "error",
     "traceback": [
      "\u001b[0;31m---------------------------------------------------------------------------\u001b[0m",
      "\u001b[0;31mIndexError\u001b[0m                                Traceback (most recent call last)",
      "Input \u001b[0;32mIn [54]\u001b[0m, in \u001b[0;36m<cell line: 2>\u001b[0;34m()\u001b[0m\n\u001b[1;32m      1\u001b[0m w1 \u001b[38;5;241m=\u001b[39m linreg\u001b[38;5;241m.\u001b[39mcoef_[\u001b[38;5;241m0\u001b[39m]\n\u001b[0;32m----> 2\u001b[0m w2 \u001b[38;5;241m=\u001b[39m \u001b[43mlinreg\u001b[49m\u001b[38;5;241;43m.\u001b[39;49m\u001b[43mcoef_\u001b[49m\u001b[43m[\u001b[49m\u001b[38;5;241;43m1\u001b[39;49m\u001b[43m]\u001b[49m\n\u001b[1;32m      3\u001b[0m w3 \u001b[38;5;241m=\u001b[39m linreg\u001b[38;5;241m.\u001b[39mcoef_[\u001b[38;5;241m2\u001b[39m]\n\u001b[1;32m      5\u001b[0m b \u001b[38;5;241m=\u001b[39m linreg\u001b[38;5;241m.\u001b[39mintercept_\n",
      "\u001b[0;31mIndexError\u001b[0m: index 1 is out of bounds for axis 0 with size 1"
     ]
    }
   ],
   "source": [
    "w1 = linreg.coef_[0]\n",
    "w2 = linreg.coef_[1]\n",
    "w3 = linreg.coef_[2]\n",
    "\n",
    "b = linreg.intercept_\n",
    "\n",
    "pred_y = w1*X[:,0] + w2*X[:,1] + w3*X[:,2] + b"
   ]
  },
  {
   "cell_type": "code",
   "execution_count": 53,
   "id": "dc4a35c1",
   "metadata": {},
   "outputs": [
    {
     "ename": "NameError",
     "evalue": "name 'X' is not defined",
     "output_type": "error",
     "traceback": [
      "\u001b[0;31m---------------------------------------------------------------------------\u001b[0m",
      "\u001b[0;31mNameError\u001b[0m                                 Traceback (most recent call last)",
      "Input \u001b[0;32mIn [53]\u001b[0m, in \u001b[0;36m<cell line: 2>\u001b[0;34m()\u001b[0m\n\u001b[1;32m      1\u001b[0m \u001b[38;5;66;03m# 상관계수 : 상관성의 정도\u001b[39;00m\n\u001b[0;32m----> 2\u001b[0m np\u001b[38;5;241m.\u001b[39mcorrcoef(\u001b[43mX\u001b[49m[:,\u001b[38;5;241m0\u001b[39m], y)\n",
      "\u001b[0;31mNameError\u001b[0m: name 'X' is not defined"
     ]
    }
   ],
   "source": [
    "# 상관계수 : 상관성의 정도\n",
    "np.corrcoef(X[:,0], y)\n",
    "np.corrcoef(X[:,1], y)\n",
    "np.corrcoef(X[:,2], y)"
   ]
  },
  {
   "cell_type": "code",
   "execution_count": null,
   "id": "9fbfb33d",
   "metadata": {},
   "outputs": [],
   "source": []
  }
 ],
 "metadata": {
  "kernelspec": {
   "display_name": "Python 3 (ipykernel)",
   "language": "python",
   "name": "python3"
  },
  "language_info": {
   "codemirror_mode": {
    "name": "ipython",
    "version": 3
   },
   "file_extension": ".py",
   "mimetype": "text/x-python",
   "name": "python",
   "nbconvert_exporter": "python",
   "pygments_lexer": "ipython3",
   "version": "3.9.12"
  }
 },
 "nbformat": 4,
 "nbformat_minor": 5
}
