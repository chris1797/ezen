{
 "cells": [
  {
   "cell_type": "code",
   "execution_count": null,
   "id": "3decac18-c59b-4ac5-9a86-79249fc72ac6",
   "metadata": {},
   "outputs": [
    {
     "name": "stdout",
     "output_type": "stream",
     "text": [
      "응답된 메시지 = 접속 성공\n",
      "응답된 메시지 = 로그인 성공\n",
      " - 메세지 보내기 - \n"
     ]
    },
    {
     "name": "stdin",
     "output_type": "stream",
     "text": [
      ">  123\n"
     ]
    },
    {
     "name": "stdout",
     "output_type": "stream",
     "text": [
      " - 메세지 보내기 - \n",
      "< 321\n"
     ]
    },
    {
     "name": "stdin",
     "output_type": "stream",
     "text": [
      ">  321\n"
     ]
    },
    {
     "name": "stdout",
     "output_type": "stream",
     "text": [
      " - 메세지 보내기 - \n",
      " - 메세지 보내기 - \n"
     ]
    },
    {
     "name": "stdin",
     "output_type": "stream",
     "text": [
      ">  321\n"
     ]
    }
   ],
   "source": [
    "from socket import *\n",
    "import time\n",
    "import threading\n",
    "\n",
    "# 접속해서 통신하는 기능\n",
    "clientSock = socket(AF_INET, SOCK_STREAM)\n",
    "clientSock.connect(('127.0.0.1',1797))\n",
    "msg = clientSock.recv(1024)\n",
    "print(f'응답된 메시지 = {msg.decode(\"UTF-8\")}')\n",
    "\n",
    "# 로그인 요청\n",
    "clientSock.send(\"scott tiger\".encode('utf-8'))\n",
    "\n",
    "# 로그인 요청에 대한 응답\n",
    "msg = clientSock.recv(1024)\n",
    "print(f'응답된 메시지 = {msg.decode(\"UTF-8\")}')\n",
    "\n",
    "def send():\n",
    "    while True:\n",
    "        print(' - 메세지 보내기 - ')\n",
    "        msg = input('> ')\n",
    "        clientSock.send(msg.encode('UTF-8'))\n",
    "\n",
    "def receive():\n",
    "    while True:\n",
    "        msg = clientSock.recv(1024)\n",
    "        print(f'< {msg.decode(\"UTF-8\")}')\n",
    "    \n",
    "while True:\n",
    "# 너무 빨리 끝나면 stream이 깨지기 때문에 client가 받을 수 없는 상황이 생길 수 있음\n",
    "# 테스트할 때는 sleep사용\n",
    "\n",
    "    msg = clientSock.recv(1024)\n",
    "    \n",
    "    t_send = threading.Thread(target=send)\n",
    "    t_receive = threading.Thread(target=receive)\n",
    "\n",
    "    t_send.start()\n",
    "    t_receive.start()"
   ]
  },
  {
   "cell_type": "code",
   "execution_count": null,
   "id": "56f2ccd2-7ee7-450f-84ab-99f326d7ed1e",
   "metadata": {},
   "outputs": [],
   "source": []
  }
 ],
 "metadata": {
  "kernelspec": {
   "display_name": "Python 3 (ipykernel)",
   "language": "python",
   "name": "python3"
  },
  "language_info": {
   "codemirror_mode": {
    "name": "ipython",
    "version": 3
   },
   "file_extension": ".py",
   "mimetype": "text/x-python",
   "name": "python",
   "nbconvert_exporter": "python",
   "pygments_lexer": "ipython3",
   "version": "3.9.12"
  }
 },
 "nbformat": 4,
 "nbformat_minor": 5
}
