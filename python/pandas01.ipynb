{
 "cells": [
  {
   "cell_type": "code",
   "execution_count": 3,
   "id": "477a8e18",
   "metadata": {},
   "outputs": [
    {
     "data": {
      "text/plain": [
       "array([1, 2, 4, 5])"
      ]
     },
     "execution_count": 3,
     "metadata": {},
     "output_type": "execute_result"
    }
   ],
   "source": [
    "import numpy as np\n",
    "\n",
    "arr = np.array([1,2,3,4,5])\n",
    "arr = np.delete(arr, 2)   # 2는 값이 아닌 index\n",
    "arr"
   ]
  },
  {
   "cell_type": "code",
   "execution_count": 2,
   "id": "5b534177",
   "metadata": {},
   "outputs": [
    {
     "name": "stdout",
     "output_type": "stream",
     "text": [
      "['David' 'Eric']\n"
     ]
    }
   ],
   "source": [
    "arr = np.array([\"Alice\", \"Bob\", \"Charlie\", \"David\", \"Eric\"])\n",
    "arr = np.delete(arr, [0,1,2])\n",
    "print(arr)"
   ]
  },
  {
   "cell_type": "code",
   "execution_count": 4,
   "id": "865184a5-afce-47b1-8a30-5b343d4bd38a",
   "metadata": {},
   "outputs": [],
   "source": [
    "# 2차원은 축이 2개,.행은 axis=0, 열은 axis=1"
   ]
  },
  {
   "cell_type": "code",
   "execution_count": 5,
   "id": "f2b4530f",
   "metadata": {},
   "outputs": [
    {
     "name": "stdout",
     "output_type": "stream",
     "text": [
      "[[ 2  3]\n",
      " [ 6  7]\n",
      " [10 11]]\n"
     ]
    }
   ],
   "source": [
    "arr = np.array([[1, 2, 3, 4],\n",
    "                [5, 6, 7, 8],\n",
    "                [9, 10, 11, 12]])\n",
    "arr = np.delete(arr, [0,3], axis=1)\n",
    "print(arr)"
   ]
  },
  {
   "cell_type": "code",
   "execution_count": 6,
   "id": "b8f7e716-4ed8-4b86-94c0-35ed47a786cd",
   "metadata": {
    "tags": []
   },
   "outputs": [
    {
     "name": "stdout",
     "output_type": "stream",
     "text": [
      "[[ 5  6  7  8]\n",
      " [ 9 10 11 12]]\n"
     ]
    }
   ],
   "source": [
    "# axis 행 삭제\n",
    "\n",
    "arr = np.array([[1, 2, 3, 4],\n",
    "                [5, 6, 7, 8],\n",
    "                [9, 10, 11, 12]])\n",
    "arr = np.delete(arr, 0, axis=0)\n",
    "print(arr)"
   ]
  },
  {
   "cell_type": "code",
   "execution_count": 7,
   "id": "5bd6891d-9f92-4db5-88a5-f35de6cb4c35",
   "metadata": {},
   "outputs": [
    {
     "name": "stdout",
     "output_type": "stream",
     "text": [
      "[2 3 4]\n"
     ]
    }
   ],
   "source": [
    "# 조건문 삭제\n",
    "\n",
    "arr = np.array([1, 1, 1, 1, 2, 3, 4])\n",
    "arr = np.delete(arr, np.where(arr == 1))\n",
    "print(arr)"
   ]
  },
  {
   "cell_type": "code",
   "execution_count": null,
   "id": "44829d37-1cc7-4409-a6cd-c7ec52b5dc3d",
   "metadata": {},
   "outputs": [],
   "source": [
    "# 삭제\n",
    "\n",
    "def delete_1(row):\n",
    "    B = np.arange(16).reshape(4,-1)\n",
    "    B = np.delete(B, row, axis=0)\n",
    "    print(B)\n",
    "    \n",
    "def delete_2(row):\n",
    "    global A\n",
    "    A = np.delete(A, row, axis=0)\n",
    "    print(A)"
   ]
  },
  {
   "cell_type": "markdown",
   "id": "97578645-b8e4-4e02-9d36-18205c1c54c1",
   "metadata": {},
   "source": [
    "## 성적관리 프로그램 (ndarray CRUD 실습)\n",
    "- 5명의 학쟁 성적 (학생의 이름, 번호)\n",
    "- 3과목 (5행X3열의 2차원 배열)\n",
    "- 1차원 배열 2개, 2차원 배열 1개\n",
    "- 목록(s), 추가(a), 검색(번호로 검색, f), 수정(u), 삭제(d), 종료(x)\n",
    "- 성적입력 시 : 번호 이름을 먼저 받고, 3과목 성적을 입력받아서 저장\n",
    "- np.where(stid == 15) <- 15인 원소의 인덱스 리턴\n",
    "- 삭제할 때는 '학생정보 삭제', '과목 삭제' 중 택1\n",
    "- names, stid, subjects, scores(2차원)"
   ]
  },
  {
   "cell_type": "code",
   "execution_count": 2,
   "id": "bb9c22dd-583e-4dca-b3b5-f6497af93bb8",
   "metadata": {},
   "outputs": [
    {
     "data": {
      "text/plain": [
       "array([1, 2, 3, 4, 5])"
      ]
     },
     "execution_count": 2,
     "metadata": {},
     "output_type": "execute_result"
    }
   ],
   "source": [
    "stu_num"
   ]
  },
  {
   "cell_type": "code",
   "execution_count": 3,
   "id": "1903fd9d-66a8-4974-b7ae-ae8adee31203",
   "metadata": {},
   "outputs": [
    {
     "data": {
      "text/plain": [
       "array(['Alice', 'Bob', 'Charlie', 'David', 'Eric'], dtype='<U7')"
      ]
     },
     "execution_count": 3,
     "metadata": {},
     "output_type": "execute_result"
    }
   ],
   "source": [
    "stu_name"
   ]
  },
  {
   "cell_type": "code",
   "execution_count": 4,
   "id": "9ab70d79-f269-466f-84b4-1dd005b5a612",
   "metadata": {},
   "outputs": [
    {
     "data": {
      "text/plain": [
       "array([[ 70,  70,  70],\n",
       "       [ 80,  80,  80],\n",
       "       [ 90,  90,  90],\n",
       "       [100, 100, 100],\n",
       "       [110, 110, 110]])"
      ]
     },
     "execution_count": 4,
     "metadata": {},
     "output_type": "execute_result"
    }
   ],
   "source": [
    "score"
   ]
  },
  {
   "cell_type": "code",
   "execution_count": 1,
   "id": "2939703f-d4c8-489e-92ae-3e4e330e2950",
   "metadata": {},
   "outputs": [
    {
     "data": {
      "text/plain": [
       "array([[0., 0., 0.],\n",
       "       [0., 0., 0.],\n",
       "       [0., 0., 0.],\n",
       "       [0., 0., 0.],\n",
       "       [0., 0., 0.]])"
      ]
     },
     "execution_count": 1,
     "metadata": {},
     "output_type": "execute_result"
    }
   ],
   "source": [
    "import numpy as np\n",
    "\n",
    "stu_num = np.array([1,2,3,4,5])\n",
    "stu_name = np.array([\"Alice\", \"Bob\", \"Charlie\", \"David\", \"Eric\"])\n",
    "\n",
    "score = np.zeros((5,3))\n",
    "score"
   ]
  },
  {
   "cell_type": "code",
   "execution_count": 2,
   "id": "835e11a8-518c-4b6a-818d-6570bee8309f",
   "metadata": {},
   "outputs": [
    {
     "data": {
      "text/plain": [
       "[[1, 'Alice', array([0., 0., 0.])],\n",
       " [2, 'Bob', array([0., 0., 0.])],\n",
       " [3, 'Charlie', array([0., 0., 0.])],\n",
       " [4, 'David', array([0., 0., 0.])],\n",
       " [5, 'Eric', array([0., 0., 0.])]]"
      ]
     },
     "execution_count": 2,
     "metadata": {},
     "output_type": "execute_result"
    }
   ],
   "source": [
    "sum_list = [[0,0,0],[0,0,0],[0,0,0],[0,0,0],[0,0,0]]\n",
    "for row in range(5):\n",
    "    sum_list[row][0] = stu_num[row]\n",
    "    sum_list[row][1] = stu_name[row]\n",
    "    sum_list[row][2] = score[row]\n",
    "sum_list"
   ]
  },
  {
   "cell_type": "code",
   "execution_count": 1,
   "id": "aa7cc8a4-fb73-4e15-918d-62177e162879",
   "metadata": {
    "tags": []
   },
   "outputs": [],
   "source": [
    "import numpy as np\n",
    "\n",
    "stu_num = np.array([1,2,3,4,5])\n",
    "stu_name = np.array([\"Alice\", \"Bob\", \"Charlie\", \"David\", \"Eric\"])\n",
    "\n",
    "score = np.zeros((5,3))\n",
    "\n",
    "sum_list = [[0,0,0],[0,0,0],[0,0,0],[0,0,0],[0,0,0]]\n",
    "for row in range(5):\n",
    "    sum_list[row][0] = stu_num[row]\n",
    "    sum_list[row][1] = stu_name[row]\n",
    "    sum_list[row][2] = score[row]\n",
    "\n",
    "\n",
    "m_dic = {'s':'LIST', 'a':'ADD', 'f':'FIND', 'u':'UPDATE', 'd':'DELETE', 'x':'EXIT'}\n",
    "\n",
    "def program():\n",
    "    print('------------------------------------------------------------')\n",
    "    m_input = input(' 메뉴 => 목록(s), 추가(a), 검색(f), 수정(u), 삭제(d), 종료(x):')\n",
    "    return m_dic.get(m_input)\n",
    "\n",
    "def print_list():\n",
    "    print('------------------------------------------------------------')\n",
    "    \n",
    "    # sum_list = []\n",
    "    # for i in range(0,len(stu_num)):\n",
    "    #     sum_list.append([stu_num[i], stu_name[i], score[i]])\n",
    "    \n",
    "    try:\n",
    "        fa = np.load('scores.npy')\n",
    "        score = fa\n",
    "        print('로드 성공')\n",
    "\n",
    "        sum_list = []\n",
    "        for i in range(0,len(score)):\n",
    "            sum_list.append([stu_num[i], stu_name[i], score[i]])\n",
    "        \n",
    "        for i in sum_list:\n",
    "            print(i)\n",
    "    except:\n",
    "        for i in sum_list:\n",
    "            print(i)\n",
    "    \n",
    "    # for i in sum_list:\n",
    "    #     print(i)\n",
    "        \n",
    "    print('------------------------------------------------------------')\n",
    "        \n",
    "def add_score():\n",
    "    str_stu = input('번호 이름 : ')\n",
    "    if len(str_stu.split()) != 2:\n",
    "        print('입력 오류')\n",
    "        return\n",
    "    num,name = str_stu.split()\n",
    "    \n",
    "    sum_list = []\n",
    "    for i in range(0,len(score)):\n",
    "        sum_list.append([stu_num[i], stu_name[i], score[i]])\n",
    "        \n",
    "    for row in range(0,len(sum_list)):\n",
    "        if sum_list[row][0] == int(num) and sum_list[row][1] == name:\n",
    "            str_score = input('성적 3개 입력 : ')\n",
    "            s1, s2, s3 = str_score.split()\n",
    "            score[row] = np.array([s1, s2, s3])\n",
    "\n",
    "    np.save('scores', score)\n",
    "    print('파일에 저장성공')\n",
    "    print('추가 성공')\n",
    "    print_list()\n",
    "\n",
    "def del_stu():\n",
    "    num = input('삭제할 학생 번호 : ')\n",
    "    id = input('학생정보 삭제(1) / 과목삭제(2)')\n",
    "    \n",
    "    global score\n",
    "    global stu_num\n",
    "    global stu_name\n",
    "    \n",
    "    sum_list = []\n",
    "    for i in range(0,len(score)):\n",
    "        sum_list.append([stu_num[i], stu_name[i], score[i]])\n",
    "    \n",
    "    if id == \"1\":\n",
    "        stu_num = np.delete(stu_num, int(num)-1)\n",
    "        stu_name = np.delete(stu_name, int(num)-1)\n",
    "        score = np.delete(score, int(num)-1, axis=0)\n",
    "    elif id == \"2\":\n",
    "        score[int(num)-1] = np.array([0,0,0])\n",
    "    else:\n",
    "        print('잘못된 입력입니다.')\n",
    "\n",
    "    print_list()\n",
    "    \n",
    "        \n",
    "def search_stu():\n",
    "    id = input('검색할 이름 : ')\n",
    "    \n",
    "    for row in range(0,len(sum_list)):\n",
    "        if sum_list[row][1] == id:\n",
    "            print(sum_list[row])\n",
    "    \n",
    "    try:\n",
    "        fa = np.load('scores.npy')\n",
    "        print('로드 성공')\n",
    "        print(fa)\n",
    "        for i in sum_list:\n",
    "            print(i)\n",
    "    except:\n",
    "        for i in sum_list:\n",
    "            print(i)\n",
    "    \n",
    "def update_stu():\n",
    "    num = input('수정할 번호 : ')\n",
    "    \n",
    "    for i in range(0,len(stu_num)):\n",
    "        if i == int(num)-1:\n",
    "            print(sum_list[i])\n",
    "            name = input('수정할 이름 : ')\n",
    "            stu_name[i] = name\n",
    "            str_score = input('성적 3개 입력 : ')\n",
    "            s1, s2, s3 = str_score.split()\n",
    "            score[i] = np.array([s1, s2, s3])\n",
    "            print('수정 완료')\n",
    "            \n",
    "    np.save('scores', score)\n",
    "    print('파일에 저장성공')\n",
    "    print('추가 성공')\n",
    "    \n",
    "    print_list()"
   ]
  },
  {
   "cell_type": "code",
   "execution_count": null,
   "id": "03c4cc1a-a3c9-4e6b-9646-d8dd06fbbef4",
   "metadata": {},
   "outputs": [
    {
     "name": "stdout",
     "output_type": "stream",
     "text": [
      "------------------------------------------------------------\n"
     ]
    },
    {
     "name": "stdin",
     "output_type": "stream",
     "text": [
      " 메뉴 => 목록(s), 추가(a), 검색(f), 수정(u), 삭제(d), 종료(x): s\n"
     ]
    },
    {
     "name": "stdout",
     "output_type": "stream",
     "text": [
      "------------------------------------------------------------\n",
      "로드 성공\n",
      "[1, 'Alice', array([75., 75., 75.])]\n",
      "[2, 'Bob', array([80., 80., 80.])]\n",
      "[3, 'Charlie', array([0., 0., 0.])]\n",
      "[4, 'David', array([0., 0., 0.])]\n",
      "[5, 'Eric', array([0., 0., 0.])]\n",
      "------------------------------------------------------------\n",
      "------------------------------------------------------------\n"
     ]
    }
   ],
   "source": [
    "\n",
    "\n",
    "go = True\n",
    "while go:\n",
    "    m = program()\n",
    "    if m=='LIST':\n",
    "        print_list()\n",
    "    elif m=='ADD':\n",
    "        add_score()\n",
    "    elif m=='FIND':\n",
    "        search_stu()\n",
    "    elif m=='UPDATE':\n",
    "        update_stu()\n",
    "    elif m=='DELETE':\n",
    "        del_stu()\n",
    "    elif m=='EXIT':\n",
    "        go = False\n",
    "    else:\n",
    "        print('메뉴 입력 오류')\n",
    "print('프로그램 종료...')"
   ]
  },
  {
   "cell_type": "code",
   "execution_count": null,
   "id": "1f80ba09-d9f3-4d0d-ad1a-5a10cd982de2",
   "metadata": {},
   "outputs": [],
   "source": []
  }
 ],
 "metadata": {
  "kernelspec": {
   "display_name": "Python 3 (ipykernel)",
   "language": "python",
   "name": "python3"
  },
  "language_info": {
   "codemirror_mode": {
    "name": "ipython",
    "version": 3
   },
   "file_extension": ".py",
   "mimetype": "text/x-python",
   "name": "python",
   "nbconvert_exporter": "python",
   "pygments_lexer": "ipython3",
   "version": "3.9.12"
  }
 },
 "nbformat": 4,
 "nbformat_minor": 5
}
