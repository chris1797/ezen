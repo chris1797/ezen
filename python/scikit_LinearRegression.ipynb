{
 "cells": [
  {
   "cell_type": "markdown",
   "id": "008c3745",
   "metadata": {},
   "source": [
    "## scikitlearn 패키지를 활용한 선형회귀(Linear Regression)"
   ]
  },
  {
   "cell_type": "code",
   "execution_count": 44,
   "id": "50c22f30",
   "metadata": {},
   "outputs": [],
   "source": [
    "# 직선의 방정식 : y = a*x + b\n",
    "import numpy as np\n",
    "np.random.seed(0)\n",
    "y = np.arange(100)"
   ]
  },
  {
   "cell_type": "code",
   "execution_count": 45,
   "id": "d4ce1f3a",
   "metadata": {
    "scrolled": true
   },
   "outputs": [
    {
     "data": {
      "text/plain": [
       "[<matplotlib.lines.Line2D at 0x1ba6907e460>]"
      ]
     },
     "execution_count": 45,
     "metadata": {},
     "output_type": "execute_result"
    },
    {
     "data": {
      "image/png": "[encoded data removed]",
      "text/plain": [
       "<Figure size 432x288 with 1 Axes>"
      ]
     },
     "metadata": {
      "needs_background": "light"
     },
     "output_type": "display_data"
    }
   ],
   "source": [
    "import matplotlib.pyplot as plt\n",
    "\n",
    "plt.plot(y)"
   ]
  },
  {
   "cell_type": "code",
   "execution_count": 46,
   "id": "f2bab1b7",
   "metadata": {
    "scrolled": true
   },
   "outputs": [
    {
     "data": {
      "text/plain": [
       "array([ -3,   1,   8, -12,  -8,  17,  -6,  -1,   2,  13,  16,  14,   1,\n",
       "        21,   5,  24,  25,  14,  29,   5,  11,  13,  30,  22,  33,  27,\n",
       "        16,  37,  26,  22,  24,  36,  36,  34,  38,  25,  36,  37,  23,\n",
       "        42,  28,  50,  44,  47,  58,  49,  50,  46,  40,  34,  36,  45,\n",
       "        62,  38,  49,  60,  64,  45,  54,  62,  68,  74,  49,  48,  49,\n",
       "        54,  72,  57,  59,  62,  75,  73,  72,  62,  68,  70,  87,  86,\n",
       "        64,  65,  72,  75,  92,  71,  75,  93,  82,  86,  91, 101,  75,\n",
       "        90,  80,  99,  91, 105,  91, 102,  94,  88])"
      ]
     },
     "execution_count": 46,
     "metadata": {},
     "output_type": "execute_result"
    }
   ],
   "source": [
    "rd = np.random.randint(-15,15, 100)\n",
    "y = y + rd\n",
    "y"
   ]
  },
  {
   "cell_type": "code",
   "execution_count": 47,
   "id": "322e003c",
   "metadata": {
    "scrolled": true
   },
   "outputs": [
    {
     "data": {
      "text/plain": [
       "<matplotlib.collections.PathCollection at 0x1ba690d2460>"
      ]
     },
     "execution_count": 47,
     "metadata": {},
     "output_type": "execute_result"
    },
    {
     "data": {
      "image/png": "[encoded data removed]",
      "text/plain": [
       "<Figure size 432x288 with 1 Axes>"
      ]
     },
     "metadata": {
      "needs_background": "light"
     },
     "output_type": "display_data"
    }
   ],
   "source": [
    "x = np.arange(100)\n",
    "plt.scatter(x, y, s=8)"
   ]
  },
  {
   "cell_type": "code",
   "execution_count": 48,
   "id": "a75b7f3e",
   "metadata": {
    "scrolled": true
   },
   "outputs": [],
   "source": [
    "x_train = x[:80]\n",
    "y_train = y[:80]\n",
    "\n",
    "x_test = x[-20:]\n",
    "y_test = y[-20:]"
   ]
  },
  {
   "cell_type": "code",
   "execution_count": 49,
   "id": "1cc04e2e",
   "metadata": {},
   "outputs": [
    {
     "data": {
      "text/plain": [
       "(80,)"
      ]
     },
     "execution_count": 49,
     "metadata": {},
     "output_type": "execute_result"
    }
   ],
   "source": [
    "x_train.shape   # (80,)"
   ]
  },
  {
   "cell_type": "code",
   "execution_count": 50,
   "id": "8fa07bc8",
   "metadata": {},
   "outputs": [],
   "source": [
    "x_train = x_train.reshape(-1, 1)"
   ]
  },
  {
   "cell_type": "code",
   "execution_count": 51,
   "id": "63830a81",
   "metadata": {},
   "outputs": [
    {
     "data": {
      "text/plain": [
       "(80, 1)"
      ]
     },
     "execution_count": 51,
     "metadata": {},
     "output_type": "execute_result"
    }
   ],
   "source": [
    "x_train.shape   # (80, 1)"
   ]
  },
  {
   "cell_type": "code",
   "execution_count": 52,
   "id": "26be7c78",
   "metadata": {},
   "outputs": [],
   "source": [
    "from sklearn import linear_model\n",
    "linreg = linear_model.LinearRegression()"
   ]
  },
  {
   "cell_type": "code",
   "execution_count": 53,
   "id": "5ce8ede6",
   "metadata": {},
   "outputs": [
    {
     "data": {
      "text/plain": [
       "LinearRegression()"
      ]
     },
     "execution_count": 53,
     "metadata": {},
     "output_type": "execute_result"
    }
   ],
   "source": [
    "linreg.fit(x_train, y_train)"
   ]
  },
  {
   "cell_type": "code",
   "execution_count": 54,
   "id": "76a01335",
   "metadata": {},
   "outputs": [
    {
     "data": {
      "text/plain": [
       "(array([0.96024379]), -0.32962962962962195)"
      ]
     },
     "execution_count": 54,
     "metadata": {},
     "output_type": "execute_result"
    }
   ],
   "source": [
    "linreg.coef_, linreg.intercept_"
   ]
  },
  {
   "cell_type": "code",
   "execution_count": 55,
   "id": "dcc082bf",
   "metadata": {
    "scrolled": true
   },
   "outputs": [
    {
     "data": {
      "text/plain": [
       "array([76.48987342, 77.45011721, 78.41036099, 79.37060478, 80.33084857,\n",
       "       81.29109236, 82.25133615, 83.21157993, 84.17182372, 85.13206751,\n",
       "       86.0923113 , 87.05255509, 88.01279887, 88.97304266, 89.93328645,\n",
       "       90.89353024, 91.85377403, 92.81401782, 93.7742616 , 94.73450539])"
      ]
     },
     "execution_count": 55,
     "metadata": {},
     "output_type": "execute_result"
    }
   ],
   "source": [
    "linreg.predict(x_test.reshape(-1, 1))"
   ]
  },
  {
   "cell_type": "code",
   "execution_count": 56,
   "id": "af0f9161",
   "metadata": {},
   "outputs": [
    {
     "data": {
      "text/plain": [
       "0.32248397967548326"
      ]
     },
     "execution_count": 56,
     "metadata": {},
     "output_type": "execute_result"
    }
   ],
   "source": [
    "linreg.score(x_test.reshape(-1,1), y_test)"
   ]
  },
  {
   "cell_type": "code",
   "execution_count": 57,
   "id": "ebf585d8",
   "metadata": {
    "scrolled": true
   },
   "outputs": [
    {
     "data": {
      "text/plain": [
       "[<matplotlib.lines.Line2D at 0x1ba6914a0a0>]"
      ]
     },
     "execution_count": 57,
     "metadata": {},
     "output_type": "execute_result"
    },
    {
     "data": {
      "image/png": "[encoded data removed]",
      "text/plain": [
       "<Figure size 432x288 with 1 Axes>"
      ]
     },
     "metadata": {
      "needs_background": "light"
     },
     "output_type": "display_data"
    }
   ],
   "source": [
    "plt.scatter(x, y, s=8)\n",
    "\n",
    "a = linreg.coef_\n",
    "b = linreg.intercept_\n",
    "y2 = a*x + b\n",
    "\n",
    "plt.plot(x,y2,'r')"
   ]
  },
  {
   "cell_type": "code",
   "execution_count": 58,
   "id": "1fb3b86e",
   "metadata": {
    "scrolled": true
   },
   "outputs": [
    {
     "data": {
      "text/plain": [
       "array([143.70693858, 191.71912799])"
      ]
     },
     "execution_count": 58,
     "metadata": {},
     "output_type": "execute_result"
    }
   ],
   "source": [
    "linreg.predict([[150],[200]])"
   ]
  },
  {
   "cell_type": "markdown",
   "id": "b19cad7e",
   "metadata": {},
   "source": [
    "## 기울기 0.5,  절편 20인 데이터셋 회귀분석"
   ]
  },
  {
   "cell_type": "code",
   "execution_count": 85,
   "id": "d9fc2144",
   "metadata": {},
   "outputs": [],
   "source": [
    "np.random.seed(0)\n",
    "x = np.arange(100)\n",
    "y = 0.5*x + 20\n",
    "noise = np.random.randint(-10, 10, 100)\n",
    "y2 = y + noise"
   ]
  },
  {
   "cell_type": "code",
   "execution_count": 86,
   "id": "687d8df0",
   "metadata": {
    "scrolled": true
   },
   "outputs": [
    {
     "data": {
      "text/plain": [
       "<matplotlib.collections.PathCollection at 0x1ba6a3414c0>"
      ]
     },
     "execution_count": 86,
     "metadata": {},
     "output_type": "execute_result"
    },
    {
     "data": {
      "image/png": "[encoded data removed]",
      "text/plain": [
       "<Figure size 432x288 with 1 Axes>"
      ]
     },
     "metadata": {
      "needs_background": "light"
     },
     "output_type": "display_data"
    }
   ],
   "source": [
    "#plt.ylim(0,100)\n",
    "plt.axis([0,100,0,100])\n",
    "plt.scatter(x, y2, s=5)"
   ]
  },
  {
   "cell_type": "code",
   "execution_count": 87,
   "id": "cfd7be02",
   "metadata": {},
   "outputs": [],
   "source": [
    "x_train = x[:80]\n",
    "x_test = x[-20:]\n",
    "\n",
    "y_train = y2[:80]\n",
    "y_test = y2[-20:]"
   ]
  },
  {
   "cell_type": "code",
   "execution_count": 88,
   "id": "503d321f",
   "metadata": {},
   "outputs": [
    {
     "data": {
      "text/plain": [
       "(80, 1)"
      ]
     },
     "execution_count": 88,
     "metadata": {},
     "output_type": "execute_result"
    }
   ],
   "source": [
    "X_train = x_train.reshape(-1, 1)\n",
    "X_train.shape"
   ]
  },
  {
   "cell_type": "code",
   "execution_count": 89,
   "id": "f30d24d7",
   "metadata": {
    "scrolled": false
   },
   "outputs": [
    {
     "data": {
      "text/plain": [
       "(20, 1)"
      ]
     },
     "execution_count": 89,
     "metadata": {},
     "output_type": "execute_result"
    }
   ],
   "source": [
    "X_test = x_test.reshape(-1,1)\n",
    "X_test.shape"
   ]
  },
  {
   "cell_type": "code",
   "execution_count": 90,
   "id": "e1f7bbd4",
   "metadata": {},
   "outputs": [],
   "source": [
    "from sklearn import linear_model\n",
    "linreg = linear_model.LinearRegression()"
   ]
  },
  {
   "cell_type": "code",
   "execution_count": 91,
   "id": "2172d2aa",
   "metadata": {},
   "outputs": [
    {
     "data": {
      "text/plain": [
       "LinearRegression()"
      ]
     },
     "execution_count": 91,
     "metadata": {},
     "output_type": "execute_result"
    }
   ],
   "source": [
    "linreg.fit(X_train,y_train)"
   ]
  },
  {
   "cell_type": "code",
   "execution_count": 92,
   "id": "95c96b95",
   "metadata": {},
   "outputs": [
    {
     "data": {
      "text/plain": [
       "(array([0.46897562]), 20.162962962962965)"
      ]
     },
     "execution_count": 92,
     "metadata": {},
     "output_type": "execute_result"
    }
   ],
   "source": [
    "linreg.coef_, linreg.intercept_"
   ]
  },
  {
   "cell_type": "code",
   "execution_count": 93,
   "id": "4df14287",
   "metadata": {
    "scrolled": true
   },
   "outputs": [
    {
     "data": {
      "text/plain": [
       "-0.06678507357980501"
      ]
     },
     "execution_count": 93,
     "metadata": {},
     "output_type": "execute_result"
    }
   ],
   "source": [
    "linreg.score(X_test, y_test)"
   ]
  },
  {
   "cell_type": "code",
   "execution_count": 94,
   "id": "3a2747b3",
   "metadata": {
    "scrolled": true
   },
   "outputs": [
    {
     "data": {
      "image/png": "[encoded data removed]",
      "text/plain": [
       "<Figure size 432x288 with 1 Axes>"
      ]
     },
     "metadata": {
      "needs_background": "light"
     },
     "output_type": "display_data"
    }
   ],
   "source": [
    "a = linreg.coef_\n",
    "b = linreg.intercept_\n",
    "\n",
    "pred_y = a*x + b\n",
    "\n",
    "plt.axis([0,100,0,100])\n",
    "plt.scatter(x, y2, s=5)\n",
    "plt.plot(x, pred_y,'r')\n",
    "plt.show()"
   ]
  },
  {
   "cell_type": "code",
   "execution_count": 95,
   "id": "dd437f5f",
   "metadata": {
    "scrolled": true
   },
   "outputs": [
    {
     "data": {
      "text/plain": [
       "array([489.13858415])"
      ]
     },
     "execution_count": 95,
     "metadata": {},
     "output_type": "execute_result"
    }
   ],
   "source": [
    "linreg.predict([[1000]])"
   ]
  },
  {
   "cell_type": "code",
   "execution_count": 126,
   "id": "099fb6a6",
   "metadata": {},
   "outputs": [],
   "source": [
    "from sklearn.datasets import make_regression\n",
    "\n",
    "X, y = make_regression(\n",
    "    n_samples=100, n_features=3, random_state=0, noise=10.0, bias=100.0\n",
    ")"
   ]
  },
  {
   "cell_type": "code",
   "execution_count": 127,
   "id": "e08a156e",
   "metadata": {
    "scrolled": false
   },
   "outputs": [
    {
     "data": {
      "text/plain": [
       "(100, 3)"
      ]
     },
     "execution_count": 127,
     "metadata": {},
     "output_type": "execute_result"
    }
   ],
   "source": [
    "X.shape"
   ]
  },
  {
   "cell_type": "code",
   "execution_count": 128,
   "id": "c4ad5095",
   "metadata": {
    "scrolled": true
   },
   "outputs": [
    {
     "data": {
      "text/plain": [
       "<matplotlib.collections.PathCollection at 0x1ba6da9e100>"
      ]
     },
     "execution_count": 128,
     "metadata": {},
     "output_type": "execute_result"
    },
    {
     "data": {
      "image/png": "[encoded data removed]",
      "text/plain": [
       "<Figure size 432x288 with 1 Axes>"
      ]
     },
     "metadata": {
      "needs_background": "light"
     },
     "output_type": "display_data"
    }
   ],
   "source": [
    "X[:,0]   # x1\n",
    "plt.scatter(X[:,0], y, s=7)"
   ]
  },
  {
   "cell_type": "code",
   "execution_count": 129,
   "id": "db6b8be2",
   "metadata": {
    "scrolled": true
   },
   "outputs": [
    {
     "data": {
      "text/plain": [
       "<matplotlib.collections.PathCollection at 0x1ba6dafaa90>"
      ]
     },
     "execution_count": 129,
     "metadata": {},
     "output_type": "execute_result"
    },
    {
     "data": {
      "image/png": "[encoded data removed]",
      "text/plain": [
       "<Figure size 432x288 with 1 Axes>"
      ]
     },
     "metadata": {
      "needs_background": "light"
     },
     "output_type": "display_data"
    }
   ],
   "source": [
    "plt.scatter(X[:,1], y, s=7)"
   ]
  },
  {
   "cell_type": "code",
   "execution_count": 130,
   "id": "c67ed71e",
   "metadata": {
    "scrolled": true
   },
   "outputs": [
    {
     "data": {
      "text/plain": [
       "<matplotlib.collections.PathCollection at 0x1ba6db6a130>"
      ]
     },
     "execution_count": 130,
     "metadata": {},
     "output_type": "execute_result"
    },
    {
     "data": {
      "image/png": "[encoded data removed]",
      "text/plain": [
       "<Figure size 432x288 with 1 Axes>"
      ]
     },
     "metadata": {
      "needs_background": "light"
     },
     "output_type": "display_data"
    }
   ],
   "source": [
    "plt.scatter(X[:,2], y, s=7)"
   ]
  },
  {
   "cell_type": "code",
   "execution_count": 157,
   "id": "c64a32fb",
   "metadata": {},
   "outputs": [
    {
     "data": {
      "text/plain": [
       "array([[1.        , 0.83000816],\n",
       "       [0.83000816, 1.        ]])"
      ]
     },
     "execution_count": 157,
     "metadata": {},
     "output_type": "execute_result"
    }
   ],
   "source": [
    "# 상관계수 : \n",
    "np.corrcoef(X[:,0], y)  # 0.46867824\n",
    "np.corrcoef(X[:,1], y)  # 0.19036768\n",
    "np.corrcoef(X[:,2], y)  # 0.83000816"
   ]
  },
  {
   "cell_type": "code",
   "execution_count": 158,
   "id": "8fe41885",
   "metadata": {},
   "outputs": [],
   "source": [
    "X_train = X[:80,:]\n",
    "y_train = y[:80]\n",
    "\n",
    "X_test = X[-20:,:]\n",
    "y_test = y[-20:]"
   ]
  },
  {
   "cell_type": "code",
   "execution_count": 132,
   "id": "9126bbdc",
   "metadata": {},
   "outputs": [
    {
     "data": {
      "text/plain": [
       "LinearRegression()"
      ]
     },
     "execution_count": 132,
     "metadata": {},
     "output_type": "execute_result"
    }
   ],
   "source": [
    "from sklearn import linear_model\n",
    "linreg = linear_model.LinearRegression()\n",
    "\n",
    "linreg.fit(X_train,y_train)"
   ]
  },
  {
   "cell_type": "code",
   "execution_count": 133,
   "id": "6320ce17",
   "metadata": {},
   "outputs": [
    {
     "data": {
      "text/plain": [
       "(array([40.10623988,  7.55320588, 61.5175415 ]), 97.95603668916246)"
      ]
     },
     "execution_count": 133,
     "metadata": {},
     "output_type": "execute_result"
    }
   ],
   "source": [
    "linreg.coef_, linreg.intercept_"
   ]
  },
  {
   "cell_type": "code",
   "execution_count": 134,
   "id": "9e47714c",
   "metadata": {
    "scrolled": true
   },
   "outputs": [
    {
     "data": {
      "text/plain": [
       "0.9824439177312566"
      ]
     },
     "execution_count": 134,
     "metadata": {},
     "output_type": "execute_result"
    }
   ],
   "source": [
    "linreg.score(X_test, y_test)"
   ]
  },
  {
   "cell_type": "code",
   "execution_count": 159,
   "id": "1e3c79bb",
   "metadata": {},
   "outputs": [],
   "source": [
    "w1 = linreg.coef_[0]\n",
    "w2 = linreg.coef_[1]\n",
    "w3 = linreg.coef_[2]\n",
    "b = linreg.intercept_\n",
    "\n",
    "pred_y = w1*X[:,0] + w2*X[:,1] + w3*X[:,2] + b\n"
   ]
  },
  {
   "cell_type": "code",
   "execution_count": 161,
   "id": "5b37d666",
   "metadata": {
    "scrolled": true
   },
   "outputs": [
    {
     "data": {
      "text/plain": [
       "<matplotlib.collections.PathCollection at 0x1ba6eb31370>"
      ]
     },
     "execution_count": 161,
     "metadata": {},
     "output_type": "execute_result"
    },
    {
     "data": {
      "image/png": "[encoded data removed]",
      "text/plain": [
       "<Figure size 432x288 with 1 Axes>"
      ]
     },
     "metadata": {
      "needs_background": "light"
     },
     "output_type": "display_data"
    }
   ],
   "source": [
    "plt.scatter(X[:,2], pred_y, s=5)"
   ]
  },
  {
   "cell_type": "code",
   "execution_count": 163,
   "id": "0d3461ff",
   "metadata": {
    "scrolled": true
   },
   "outputs": [
    {
     "data": {
      "text/plain": [
       "(array([26.63441615]), 23.57301618394716)"
      ]
     },
     "execution_count": 163,
     "metadata": {},
     "output_type": "execute_result"
    }
   ],
   "source": [
    "linreg.predict(X_test[0, np.newaxis]), y_test[0]"
   ]
  },
  {
   "cell_type": "code",
   "execution_count": 164,
   "id": "c563ea9d",
   "metadata": {
    "scrolled": true
   },
   "outputs": [
    {
     "data": {
      "text/plain": [
       "(array([176.85515208]), 166.92141594525745)"
      ]
     },
     "execution_count": 164,
     "metadata": {},
     "output_type": "execute_result"
    }
   ],
   "source": [
    "linreg.predict(X_test[1, np.newaxis]), y_test[1]"
   ]
  },
  {
   "cell_type": "code",
   "execution_count": 165,
   "id": "0a37faa4",
   "metadata": {
    "scrolled": true
   },
   "outputs": [
    {
     "data": {
      "text/plain": [
       "(array([123.75440115]), 139.79157904926882)"
      ]
     },
     "execution_count": 165,
     "metadata": {},
     "output_type": "execute_result"
    }
   ],
   "source": [
    "linreg.predict(X_test[2, np.newaxis]), y_test[2]"
   ]
  },
  {
   "cell_type": "code",
   "execution_count": 166,
   "id": "be57e29b",
   "metadata": {
    "scrolled": true
   },
   "outputs": [
    {
     "data": {
      "text/plain": [
       "array([-1.25279536,  0.77749036, -0.4380743 ])"
      ]
     },
     "execution_count": 166,
     "metadata": {},
     "output_type": "execute_result"
    }
   ],
   "source": [
    "X_test[0]"
   ]
  },
  {
   "cell_type": "code",
   "execution_count": 168,
   "id": "1a34b543",
   "metadata": {},
   "outputs": [
    {
     "data": {
      "text/plain": [
       "array([26.63441615])"
      ]
     },
     "execution_count": 168,
     "metadata": {},
     "output_type": "execute_result"
    }
   ],
   "source": [
    "linreg.predict(X_test[0].reshape(-1,3))"
   ]
  },
  {
   "cell_type": "code",
   "execution_count": 170,
   "id": "206d3a3b",
   "metadata": {},
   "outputs": [
    {
     "data": {
      "text/plain": [
       "array([[-1.25279536,  0.77749036, -0.4380743 ]])"
      ]
     },
     "execution_count": 170,
     "metadata": {},
     "output_type": "execute_result"
    }
   ],
   "source": [
    "X_test[0, np.newaxis]"
   ]
  },
  {
   "cell_type": "code",
   "execution_count": 169,
   "id": "16d9754a",
   "metadata": {
    "scrolled": false
   },
   "outputs": [
    {
     "data": {
      "text/plain": [
       "array([26.63441615])"
      ]
     },
     "execution_count": 169,
     "metadata": {},
     "output_type": "execute_result"
    }
   ],
   "source": [
    "linreg.predict(X_test[0, np.newaxis])"
   ]
  },
  {
   "cell_type": "markdown",
   "id": "b5c25ca7",
   "metadata": {},
   "source": [
    "## 다항회귀(Polynomial Regression)"
   ]
  },
  {
   "cell_type": "code",
   "execution_count": 178,
   "id": "a1823fcf",
   "metadata": {},
   "outputs": [],
   "source": [
    "x = np.linspace(-4,4, 100)\n",
    "y = x**2 + 15"
   ]
  },
  {
   "cell_type": "code",
   "execution_count": 179,
   "id": "e8d775a7",
   "metadata": {},
   "outputs": [],
   "source": [
    "from sklearn.preprocessing import PolynomialFeatures"
   ]
  },
  {
   "cell_type": "code",
   "execution_count": 180,
   "id": "c266e7eb",
   "metadata": {},
   "outputs": [],
   "source": [
    "poly = PolynomialFeatures(degree=2, include_bias=True)"
   ]
  },
  {
   "cell_type": "code",
   "execution_count": 183,
   "id": "fdcb1bf8",
   "metadata": {},
   "outputs": [
    {
     "data": {
      "text/plain": [
       "(100, 3)"
      ]
     },
     "execution_count": 183,
     "metadata": {},
     "output_type": "execute_result"
    }
   ],
   "source": [
    "x_poly = poly.fit_transform(x.reshape(-1,1))\n",
    "x_poly.shape"
   ]
  },
  {
   "cell_type": "code",
   "execution_count": 184,
   "id": "f8e3101f",
   "metadata": {},
   "outputs": [],
   "source": [
    "X_train = x_poly[:80,:]\n",
    "X_test = x_poly[-20:,:]\n",
    "y_train = y[:80]\n",
    "y_test = y[-20:]"
   ]
  },
  {
   "cell_type": "code",
   "execution_count": null,
   "id": "d021bab3",
   "metadata": {},
   "outputs": [],
   "source": []
  },
  {
   "cell_type": "code",
   "execution_count": 185,
   "id": "d8e08240",
   "metadata": {},
   "outputs": [
    {
     "data": {
      "text/plain": [
       "LinearRegression()"
      ]
     },
     "execution_count": 185,
     "metadata": {},
     "output_type": "execute_result"
    }
   ],
   "source": [
    "from sklearn.linear_model import LinearRegression\n",
    "\n",
    "linreg = LinearRegression()\n",
    "linreg.fit(X_train, y_train)"
   ]
  },
  {
   "cell_type": "code",
   "execution_count": 187,
   "id": "6d6f476e",
   "metadata": {},
   "outputs": [
    {
     "data": {
      "text/plain": [
       "(array([ 0.0000000e+00, -4.5757272e-16,  1.0000000e+00]), 15.0)"
      ]
     },
     "execution_count": 187,
     "metadata": {},
     "output_type": "execute_result"
    }
   ],
   "source": [
    "linreg.coef_, linreg.intercept_"
   ]
  },
  {
   "cell_type": "code",
   "execution_count": 188,
   "id": "54086742",
   "metadata": {},
   "outputs": [
    {
     "data": {
      "text/plain": [
       "1.0"
      ]
     },
     "execution_count": 188,
     "metadata": {},
     "output_type": "execute_result"
    }
   ],
   "source": [
    "linreg.score(X_test, y_test)"
   ]
  },
  {
   "cell_type": "code",
   "execution_count": 189,
   "id": "119c7c06",
   "metadata": {
    "scrolled": true
   },
   "outputs": [
    {
     "data": {
      "text/plain": [
       "array([21.0744822 , 21.47933884, 21.89725538, 22.32823181, 22.77226814,\n",
       "       23.22936435, 23.69952046, 24.18273646, 24.67901235, 25.18834813,\n",
       "       25.7107438 , 26.24619937, 26.79471483, 27.35629017, 27.93092542,\n",
       "       28.51862055, 29.11937557, 29.73319049, 30.3600653 , 31.        ])"
      ]
     },
     "execution_count": 189,
     "metadata": {},
     "output_type": "execute_result"
    }
   ],
   "source": [
    "linreg.predict(X_test)"
   ]
  },
  {
   "cell_type": "code",
   "execution_count": 192,
   "id": "ddd3f77e",
   "metadata": {},
   "outputs": [],
   "source": [
    "x_data = np.arange(5)\n",
    "x_data_poly = poly.transform(x_data.reshape(-1,1))"
   ]
  },
  {
   "cell_type": "code",
   "execution_count": 193,
   "id": "0660308e",
   "metadata": {
    "scrolled": true
   },
   "outputs": [
    {
     "data": {
      "text/plain": [
       "array([15., 16., 19., 24., 31.])"
      ]
     },
     "execution_count": 193,
     "metadata": {},
     "output_type": "execute_result"
    }
   ],
   "source": [
    "linreg.predict(x_data_poly)"
   ]
  },
  {
   "cell_type": "code",
   "execution_count": 195,
   "id": "779291d5",
   "metadata": {
    "scrolled": true
   },
   "outputs": [
    {
     "data": {
      "text/plain": [
       "[<matplotlib.lines.Line2D at 0x1ba706429d0>]"
      ]
     },
     "execution_count": 195,
     "metadata": {},
     "output_type": "execute_result"
    },
    {
     "data": {
      "image/png": "[encoded data removed]",
      "text/plain": [
       "<Figure size 432x288 with 1 Axes>"
      ]
     },
     "metadata": {
      "needs_background": "light"
     },
     "output_type": "display_data"
    }
   ],
   "source": [
    "pred_y = x**2 + 15\n",
    "plt.plot(x, pred_y, 'r')"
   ]
  }
 ],
 "metadata": {
  "kernelspec": {
   "display_name": "Python 3 (ipykernel)",
   "language": "python",
   "name": "python3"
  },
  "language_info": {
   "codemirror_mode": {
    "name": "ipython",
    "version": 3
   },
   "file_extension": ".py",
   "mimetype": "text/x-python",
   "name": "python",
   "nbconvert_exporter": "python",
   "pygments_lexer": "ipython3",
   "version": "3.9.12"
  }
 },
 "nbformat": 4,
 "nbformat_minor": 5
}
