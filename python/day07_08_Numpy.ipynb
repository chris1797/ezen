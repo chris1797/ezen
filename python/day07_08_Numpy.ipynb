{
 "cells": [
  {
   "cell_type": "code",
   "execution_count": 1,
   "id": "e3599345",
   "metadata": {},
   "outputs": [
    {
     "name": "stdout",
     "output_type": "stream",
     "text": [
      "Name: numpy\n",
      "Version: 1.21.5\n",
      "Summary: NumPy is the fundamental package for array computing with Python.\n",
      "Home-page: https://www.numpy.org\n",
      "Author: Travis E. Oliphant et al.\n",
      "Author-email: \n",
      "License: BSD\n",
      "Location: c:\\users\\302-18\\anaconda3\\lib\\site-packages\n",
      "Requires: \n",
      "Required-by: xarray, tifffile, tables, statsmodels, seaborn, scipy, scikit-learn, scikit-image, PyWavelets, pyerfa, patsy, pandas, numexpr, numba, mkl-random, mkl-fft, matplotlib, imageio, imagecodecs, hvplot, holoviews, h5py, gensim, datashape, datashader, daal4py, Bottleneck, bokeh, bkcharts, astropy\n"
     ]
    }
   ],
   "source": [
    "!pip show numpy"
   ]
  },
  {
   "cell_type": "code",
   "execution_count": 2,
   "id": "887cb7fc",
   "metadata": {},
   "outputs": [],
   "source": [
    "# numpy의 핵심 요소는 ndArray"
   ]
  },
  {
   "cell_type": "code",
   "execution_count": 1,
   "id": "2c0a3108",
   "metadata": {},
   "outputs": [],
   "source": [
    "import numpy as np"
   ]
  },
  {
   "cell_type": "code",
   "execution_count": 6,
   "id": "2720dde6",
   "metadata": {},
   "outputs": [
    {
     "data": {
      "text/plain": [
       "'int32'"
      ]
     },
     "execution_count": 6,
     "metadata": {},
     "output_type": "execute_result"
    }
   ],
   "source": [
    "import numpy as np\n",
    "# ndarray : 다차원 배열\n",
    "\n",
    "# 원소를 list로 주는 방법이 있음\n",
    "a = np.array([1, 2, 3, 4, 5])   # 배열의 원소들은 한가지 자료형이어야 함\n",
    "a  # > array([1, 2, 3, 4, 5])\n",
    "type(a)\n",
    "a.dtype.name   # > 'int32' : 정수 32bit"
   ]
  },
  {
   "cell_type": "code",
   "execution_count": 8,
   "id": "7e502a18",
   "metadata": {},
   "outputs": [
    {
     "data": {
      "text/plain": [
       "'str1024'"
      ]
     },
     "execution_count": 8,
     "metadata": {},
     "output_type": "execute_result"
    }
   ],
   "source": [
    "nums = ['a', 2, 'b', 'c', True, 3.14] # list형은 여러 자료형을 넣어도 가능\n",
    "nums\n",
    "b = np.array(nums)\n",
    "b   # > array(['a', '2', 'b', 'c', 'True', '3.14'], dtype='<U32') : 모든 원소들이 문자열이 되버림\n",
    "b.dtype.name   # > 'str1024' : 문자열"
   ]
  },
  {
   "cell_type": "code",
   "execution_count": 11,
   "id": "c5998e87",
   "metadata": {},
   "outputs": [
    {
     "data": {
      "text/plain": [
       "(5,)"
      ]
     },
     "execution_count": 11,
     "metadata": {},
     "output_type": "execute_result"
    }
   ],
   "source": [
    "a = np.array([1, 2, 3, 4, 5])\n",
    "a.size\n",
    "a.ndim   # 몇차원인지 확인하는 메소드\n",
    "a.shape   # > (5,) : 원소 5개, size와 ndim을 합친거 같은 느낌"
   ]
  },
  {
   "cell_type": "code",
   "execution_count": 16,
   "id": "5918e2e9",
   "metadata": {},
   "outputs": [
    {
     "data": {
      "text/plain": [
       "<memory at 0x0000027E9DAF3380>"
      ]
     },
     "execution_count": 16,
     "metadata": {},
     "output_type": "execute_result"
    }
   ],
   "source": [
    "a = np.array([\n",
    "                [1, 2, 3], \n",
    "                [4, 5, 6]\n",
    "            ])\n",
    "a.size\n",
    "a.ndim\n",
    "a.shape   # > (2, 3) : 2행, 3열\n",
    "a.itemsize   # > 4 : 원소 한개의 크기\n",
    "a.data"
   ]
  },
  {
   "cell_type": "code",
   "execution_count": 17,
   "id": "4e4c9166",
   "metadata": {},
   "outputs": [
    {
     "data": {
      "text/plain": [
       "array([[1, 2, 3],\n",
       "       [4, 5, 6]])"
      ]
     },
     "execution_count": 17,
     "metadata": {},
     "output_type": "execute_result"
    }
   ],
   "source": [
    "a = np.array((\n",
    "                [1,2,3],\n",
    "                (4,5,6)\n",
    "            ))\n",
    "a"
   ]
  },
  {
   "cell_type": "code",
   "execution_count": 18,
   "id": "caed2adb",
   "metadata": {},
   "outputs": [
    {
     "data": {
      "text/plain": [
       "array([ True, False, False])"
      ]
     },
     "execution_count": 18,
     "metadata": {},
     "output_type": "execute_result"
    }
   ],
   "source": [
    "bool_array = np.array([True, False, False])\n",
    "bool_array"
   ]
  },
  {
   "cell_type": "code",
   "execution_count": 20,
   "id": "aa4bddcd",
   "metadata": {},
   "outputs": [
    {
     "data": {
      "text/plain": [
       "'float64'"
      ]
     },
     "execution_count": 20,
     "metadata": {},
     "output_type": "execute_result"
    }
   ],
   "source": [
    "float_array = np.array([1.2, 3.4, 2.712323])\n",
    "float_array\n",
    "float_array.dtype.name"
   ]
  },
  {
   "cell_type": "code",
   "execution_count": 21,
   "id": "3db588c9",
   "metadata": {},
   "outputs": [
    {
     "data": {
      "text/plain": [
       "array([1.+2.j, 3.+2.j, 5.+2.j])"
      ]
     },
     "execution_count": 21,
     "metadata": {},
     "output_type": "execute_result"
    }
   ],
   "source": [
    "complex_array = np.array([1+2j, 3+2j, 5+2j], dtype=complex)  # 한 자료형만 담을 수 있으므로 dtype= 로 지정 가능\n",
    "complex_array"
   ]
  },
  {
   "cell_type": "markdown",
   "id": "98105409",
   "metadata": {},
   "source": [
    "# 함수형 프로그래밍(Functional Programming)\n",
    "\n",
    "map() : 컬렉션 원소에 대해 특정 계산을 적용함\n",
    "\n",
    "filter() : 컬렉션 원소에 대해 특정 원소만 필터링하여 새 집합 생성, \n",
    "            필터링 기준을 함수로 만들어서 적용\n",
    "\n",
    "reduce() : 컬렉션 원소에 대해 계산을 수행하여 한개의 스칼라 값을 생성\n",
    "\n",
    "lambda : 위의 함수에서 사용하는 첫번째 argument인 함수 (익명함수)"
   ]
  },
  {
   "cell_type": "code",
   "execution_count": null,
   "id": "d36d45d6",
   "metadata": {},
   "outputs": [],
   "source": [
    "nums = [1, 2, 3, 4, 5]\n",
    "\n",
    "def add(x): return x+1\n",
    "\n",
    "# list(map_obj)\n",
    "list(map(add, nums))\n",
    "     \n",
    "# map_obj = map(add, nums)  \n",
    "# map_obj는 add 함수를 어떻게 쓸까?\n",
    "# nums의 원소 하나하나를 add()에 대입, nums의 모든 원소에 add() 적용\n",
    "\n",
    "# dir(map_obj)   __iter__가 있다는건 반복문을 돌릴 수 있다는 뜻\n",
    "# for e in map_obj:\n",
    "#     print(e)"
   ]
  },
  {
   "cell_type": "code",
   "execution_count": null,
   "id": "8ae14ed8",
   "metadata": {},
   "outputs": [],
   "source": [
    "def odd(x): return x%2==1  # 홀수인 경우만 return, True\n",
    "filter(odd, nums)   # 필터링할 기준(함수)을 입력\n",
    "# dir(filter)   # iter가 있으므로 loop가능\n",
    "list(filter(odd, nums))"
   ]
  },
  {
   "cell_type": "code",
   "execution_count": null,
   "id": "0eee252f",
   "metadata": {},
   "outputs": [],
   "source": [
    "from functools import reduce\n",
    "\n",
    "def sub(x, y): return x+y # y에 nums가 들어가서 x에 대입되고 전부 합산\n",
    "reduce(sub, nums)"
   ]
  },
  {
   "cell_type": "code",
   "execution_count": null,
   "id": "702e7685",
   "metadata": {},
   "outputs": [],
   "source": [
    "# lambda Expression\n",
    "map(lambda x : x+1, nums)   # 람다에서는 'x+1'이 return"
   ]
  },
  {
   "cell_type": "markdown",
   "id": "305b6cba",
   "metadata": {},
   "source": [
    "### 랜덤숫자로 2차원 배열 만들기"
   ]
  },
  {
   "cell_type": "code",
   "execution_count": 6,
   "id": "4213476b",
   "metadata": {
    "scrolled": true
   },
   "outputs": [
    {
     "data": {
      "text/plain": [
       "array([[5., 9., 1.],\n",
       "       [4., 6., 7.]])"
      ]
     },
     "execution_count": 6,
     "metadata": {},
     "output_type": "execute_result"
    }
   ],
   "source": [
    "import random\n",
    "\n",
    "zr = np.zeros((2,3))   # ndarray의 값들을 0으로 초기화\n",
    "for row in range(2):\n",
    "    for col in range(3):\n",
    "        zr[row][col] = random.randint(1,9)\n",
    "#       list[row,col] = random.randint(1,9)    > [][] 없이 [i,j]로 인덱싱 가능\n",
    "#       ',' 는 축이 다르다는 뜻 \n",
    "list"
   ]
  },
  {
   "cell_type": "code",
   "execution_count": 37,
   "id": "63b90aad",
   "metadata": {},
   "outputs": [
    {
     "data": {
      "text/plain": [
       "array([[1., 1., 1.],\n",
       "       [1., 1., 1.],\n",
       "       [1., 1., 1.]])"
      ]
     },
     "execution_count": 37,
     "metadata": {},
     "output_type": "execute_result"
    }
   ],
   "source": [
    "np.ones((3,3))"
   ]
  },
  {
   "cell_type": "code",
   "execution_count": 2,
   "id": "63a0524b",
   "metadata": {},
   "outputs": [
    {
     "name": "stdout",
     "output_type": "stream",
     "text": [
      "0,1,2,3,4,"
     ]
    },
    {
     "data": {
      "text/plain": [
       "list"
      ]
     },
     "execution_count": 2,
     "metadata": {},
     "output_type": "execute_result"
    }
   ],
   "source": [
    "rg = range(5)   # numpy랑은 관련 없는 파이썬 표준 range\n",
    "                # range object 리턴\n",
    "for _ in rg:\n",
    "    print(_, end=\",\")\n",
    "    \n",
    "lst = list(rg)\n",
    "type(lst)"
   ]
  },
  {
   "cell_type": "code",
   "execution_count": 3,
   "id": "dd2047dc",
   "metadata": {},
   "outputs": [
    {
     "data": {
      "text/plain": [
       "array([0, 1, 2, 3, 4])"
      ]
     },
     "execution_count": 3,
     "metadata": {},
     "output_type": "execute_result"
    }
   ],
   "source": [
    "np.arange(5)   # ndarray 의 원소 범위"
   ]
  },
  {
   "cell_type": "code",
   "execution_count": 4,
   "id": "ca7e5a6a",
   "metadata": {},
   "outputs": [
    {
     "data": {
      "text/plain": [
       "array([3, 4, 5])"
      ]
     },
     "execution_count": 4,
     "metadata": {},
     "output_type": "execute_result"
    }
   ],
   "source": [
    "np.arange(3,6)"
   ]
  },
  {
   "cell_type": "code",
   "execution_count": 7,
   "id": "79d51500",
   "metadata": {},
   "outputs": [
    {
     "data": {
      "text/plain": [
       "numpy.ndarray"
      ]
     },
     "execution_count": 7,
     "metadata": {},
     "output_type": "execute_result"
    }
   ],
   "source": [
    "a = np.arange(3, 10, 2)\n",
    "type(a)"
   ]
  },
  {
   "cell_type": "code",
   "execution_count": 8,
   "id": "5212cc44",
   "metadata": {},
   "outputs": [
    {
     "data": {
      "text/plain": [
       "array([1. , 1.8, 2.6, 3.4, 4.2, 5. , 5.8, 6.6, 7.4, 8.2, 9. , 9.8])"
      ]
     },
     "execution_count": 8,
     "metadata": {},
     "output_type": "execute_result"
    }
   ],
   "source": [
    "np.arange(1,10, 0.8)"
   ]
  },
  {
   "cell_type": "code",
   "execution_count": 15,
   "id": "5363bced",
   "metadata": {},
   "outputs": [
    {
     "data": {
      "text/plain": [
       "array([ 0,  1,  2,  3,  4,  5,  6,  7,  8,  9, 10, 11])"
      ]
     },
     "execution_count": 15,
     "metadata": {},
     "output_type": "execute_result"
    }
   ],
   "source": [
    "a = np.arange(0,12)\n",
    "a"
   ]
  },
  {
   "cell_type": "code",
   "execution_count": 16,
   "id": "52d9ed9b",
   "metadata": {},
   "outputs": [
    {
     "data": {
      "text/plain": [
       "(12,)"
      ]
     },
     "execution_count": 16,
     "metadata": {},
     "output_type": "execute_result"
    }
   ],
   "source": [
    "a.shape"
   ]
  },
  {
   "cell_type": "code",
   "execution_count": 21,
   "id": "1747a499",
   "metadata": {},
   "outputs": [
    {
     "data": {
      "text/plain": [
       "array([[ 0,  1,  2,  3],\n",
       "       [ 4,  5,  6,  7],\n",
       "       [ 8,  9, 10, 11]])"
      ]
     },
     "execution_count": 21,
     "metadata": {},
     "output_type": "execute_result"
    }
   ],
   "source": [
    "a.reshape(3,4)"
   ]
  },
  {
   "cell_type": "code",
   "execution_count": 22,
   "id": "786f35cc",
   "metadata": {},
   "outputs": [
    {
     "data": {
      "text/plain": [
       "(12,)"
      ]
     },
     "execution_count": 22,
     "metadata": {},
     "output_type": "execute_result"
    }
   ],
   "source": [
    "a.shape  # > (12,) : 원본은 바뀌지 않는다. "
   ]
  },
  {
   "cell_type": "code",
   "execution_count": 24,
   "id": "327c9fc2",
   "metadata": {},
   "outputs": [
    {
     "data": {
      "text/plain": [
       "array([[ 0,  1,  2,  3,  4,  5],\n",
       "       [ 6,  7,  8,  9, 10, 11]])"
      ]
     },
     "execution_count": 24,
     "metadata": {},
     "output_type": "execute_result"
    }
   ],
   "source": [
    "a.reshape(2,6)\n",
    "#   a.reshape(2,-1)   -1 은 알아서 계산해주는 것 "
   ]
  },
  {
   "cell_type": "code",
   "execution_count": 29,
   "id": "745585c6",
   "metadata": {},
   "outputs": [
    {
     "data": {
      "text/plain": [
       "array([0., 2., 4., 6., 8.])"
      ]
     },
     "execution_count": 29,
     "metadata": {},
     "output_type": "execute_result"
    }
   ],
   "source": [
    "# 0~9 구간을 7개 수를 일정한 간격으로 추출하려면?\n",
    "# linearly spaced values를 가져오는 방법\n",
    "\n",
    "\n",
    "np.linspace(0,10,5, endpoint=True)   # 0~10 사이에 동일한 간격으로 7개를 가져온다\n",
    "                                      # endpoint 는 10도 포함시킬건지 결정\n",
    "    \n",
    "np.linspace(0,10,5, endpoint=False)"
   ]
  },
  {
   "cell_type": "code",
   "execution_count": 32,
   "id": "69239fbd",
   "metadata": {},
   "outputs": [
    {
     "data": {
      "text/plain": [
       "0.5034469424311387"
      ]
     },
     "execution_count": 32,
     "metadata": {},
     "output_type": "execute_result"
    }
   ],
   "source": [
    "np.random.random()   # 0~1 사이에 있는 임의의 실수"
   ]
  },
  {
   "cell_type": "code",
   "execution_count": 33,
   "id": "f2ebc4aa",
   "metadata": {},
   "outputs": [
    {
     "data": {
      "text/plain": [
       "array([0.0218287 , 0.80007994, 0.68870776])"
      ]
     },
     "execution_count": 33,
     "metadata": {},
     "output_type": "execute_result"
    }
   ],
   "source": [
    "np.random.random(3)   # 3개를 배열형태로 가지고 옴"
   ]
  },
  {
   "cell_type": "code",
   "execution_count": 34,
   "id": "7fa4c16e",
   "metadata": {},
   "outputs": [
    {
     "data": {
      "text/plain": [
       "array([[0.18260355, 0.802448  , 0.2868325 ],\n",
       "       [0.4485743 , 0.8492727 , 0.02126142],\n",
       "       [0.41647325, 0.24172986, 0.35553539]])"
      ]
     },
     "execution_count": 34,
     "metadata": {},
     "output_type": "execute_result"
    }
   ],
   "source": [
    "np.random.random((3,3))   # (3,3) 은 shape형태"
   ]
  },
  {
   "cell_type": "code",
   "execution_count": null,
   "id": "157a49d9",
   "metadata": {},
   "outputs": [],
   "source": [
    "### ndarray 원소가 16개인 1차원 배열을 만들고"
   ]
  },
  {
   "cell_type": "code",
   "execution_count": 37,
   "id": "90f330c5",
   "metadata": {},
   "outputs": [
    {
     "data": {
      "text/plain": [
       "array([[0.7484366 , 0.52282794, 0.05874564, 0.59724835],\n",
       "       [0.59335335, 0.09132413, 0.36505699, 0.74503981],\n",
       "       [0.23720962, 0.14262916, 0.69780447, 0.61868296],\n",
       "       [0.20430161, 0.37476227, 0.09262977, 0.70143082]])"
      ]
     },
     "execution_count": 37,
     "metadata": {},
     "output_type": "execute_result"
    }
   ],
   "source": [
    "import random\n",
    "\n",
    "a = np.random.random(16).reshape((4,4))\n",
    "a"
   ]
  },
  {
   "cell_type": "code",
   "execution_count": 41,
   "id": "0882b112",
   "metadata": {},
   "outputs": [
    {
     "data": {
      "text/plain": [
       "array([0.7484366 , 0.52282794, 0.05874564, 0.59724835, 0.59335335,\n",
       "       0.09132413, 0.36505699, 0.74503981, 0.23720962, 0.14262916,\n",
       "       0.69780447, 0.61868296, 0.20430161, 0.37476227, 0.09262977,\n",
       "       0.70143082])"
      ]
     },
     "execution_count": 41,
     "metadata": {},
     "output_type": "execute_result"
    }
   ],
   "source": [
    "a.flatten() # 다차원 배열을 1차원으로 변환, flatten : 납작하게"
   ]
  },
  {
   "cell_type": "code",
   "execution_count": 38,
   "id": "33c3a7ed",
   "metadata": {},
   "outputs": [
    {
     "data": {
      "text/plain": [
       "<memory at 0x0000018D00021380>"
      ]
     },
     "execution_count": 38,
     "metadata": {},
     "output_type": "execute_result"
    }
   ],
   "source": [
    "a.data   # <memory at 0x0000018D00021380>"
   ]
  },
  {
   "cell_type": "code",
   "execution_count": 40,
   "id": "3b400333",
   "metadata": {},
   "outputs": [
    {
     "data": {
      "text/plain": [
       "<memory at 0x0000018D000215F0>"
      ]
     },
     "execution_count": 40,
     "metadata": {},
     "output_type": "execute_result"
    }
   ],
   "source": [
    "b = a.reshape(-1, 16)\n",
    "b.data   # <memory at 0x0000018D000215F0>  a와 b의 메모리 주소가 서로 틀림   0x : 16진수다"
   ]
  },
  {
   "cell_type": "code",
   "execution_count": 43,
   "id": "6b61871c",
   "metadata": {},
   "outputs": [
    {
     "data": {
      "text/plain": [
       "array([0, 1, 2, 3])"
      ]
     },
     "execution_count": 43,
     "metadata": {},
     "output_type": "execute_result"
    }
   ],
   "source": [
    "a = np.arange(4)\n",
    "a"
   ]
  },
  {
   "cell_type": "code",
   "execution_count": 48,
   "id": "a2bc7d53",
   "metadata": {},
   "outputs": [],
   "source": [
    "a1 = a + 1   # a배열의 원소 각각에 1이 더해짐"
   ]
  },
  {
   "cell_type": "code",
   "execution_count": 46,
   "id": "54f8e15f",
   "metadata": {},
   "outputs": [
    {
     "data": {
      "text/plain": [
       "array([1, 2, 3, 4])"
      ]
     },
     "execution_count": 46,
     "metadata": {},
     "output_type": "execute_result"
    }
   ],
   "source": [
    "a + [1,1,1,1]"
   ]
  },
  {
   "cell_type": "code",
   "execution_count": 49,
   "id": "26682205",
   "metadata": {},
   "outputs": [
    {
     "data": {
      "text/plain": [
       "(array([0, 1, 2, 3]), array([1, 2, 3, 4]))"
      ]
     },
     "execution_count": 49,
     "metadata": {},
     "output_type": "execute_result"
    }
   ],
   "source": [
    "a, a1"
   ]
  },
  {
   "cell_type": "code",
   "execution_count": 50,
   "id": "aaa382e2",
   "metadata": {},
   "outputs": [
    {
     "data": {
      "text/plain": [
       "array([0, 1, 2, 3])"
      ]
     },
     "execution_count": 50,
     "metadata": {},
     "output_type": "execute_result"
    }
   ],
   "source": [
    "a"
   ]
  },
  {
   "cell_type": "code",
   "execution_count": 52,
   "id": "9a2536f0",
   "metadata": {},
   "outputs": [
    {
     "data": {
      "text/plain": [
       "array([0, 2, 4, 6])"
      ]
     },
     "execution_count": 52,
     "metadata": {},
     "output_type": "execute_result"
    }
   ],
   "source": [
    "b = a*2   # 각 원소에 *2\n",
    "b"
   ]
  },
  {
   "cell_type": "markdown",
   "id": "fa2affaa",
   "metadata": {},
   "source": [
    "## Element-wise : 각 원소마다 연산이 가해지는 것"
   ]
  },
  {
   "cell_type": "code",
   "execution_count": 53,
   "id": "66b1bd45",
   "metadata": {},
   "outputs": [
    {
     "data": {
      "text/plain": [
       "array([0.        , 0.93203909, 1.86407817, 2.79611726])"
      ]
     },
     "execution_count": 53,
     "metadata": {},
     "output_type": "execute_result"
    }
   ],
   "source": [
    "a * np.sin(1.2)"
   ]
  },
  {
   "cell_type": "code",
   "execution_count": 54,
   "id": "96ec9041",
   "metadata": {},
   "outputs": [
    {
     "data": {
      "text/plain": [
       "array([0.        , 0.84147098, 0.90929743, 0.14112001])"
      ]
     },
     "execution_count": 54,
     "metadata": {},
     "output_type": "execute_result"
    }
   ],
   "source": [
    "np.sin(a)"
   ]
  },
  {
   "cell_type": "code",
   "execution_count": 55,
   "id": "98ae2ade",
   "metadata": {},
   "outputs": [],
   "source": [
    "# numpy의 함수들도 배열을 받게 되어 있음\n",
    "# numpy의 핵심은 ndarray이므로"
   ]
  },
  {
   "cell_type": "code",
   "execution_count": 56,
   "id": "294f5de8",
   "metadata": {},
   "outputs": [
    {
     "data": {
      "text/plain": [
       "array([0.        , 1.        , 1.41421356, 1.73205081])"
      ]
     },
     "execution_count": 56,
     "metadata": {},
     "output_type": "execute_result"
    }
   ],
   "source": [
    "np.sqrt(a)   # sqrt()을 numpy에서는 유니버셜 함수라고 함   universal function"
   ]
  },
  {
   "cell_type": "code",
   "execution_count": 57,
   "id": "36cf5cd0",
   "metadata": {},
   "outputs": [
    {
     "data": {
      "text/plain": [
       "array([ 3,  8, 15])"
      ]
     },
     "execution_count": 57,
     "metadata": {},
     "output_type": "execute_result"
    }
   ],
   "source": [
    "np.array([1,2,3]) * np.array([3,4,5])"
   ]
  },
  {
   "cell_type": "code",
   "execution_count": 58,
   "id": "b52ff711",
   "metadata": {},
   "outputs": [
    {
     "data": {
      "text/plain": [
       "array([[0, 1, 2],\n",
       "       [3, 4, 5]])"
      ]
     },
     "execution_count": 58,
     "metadata": {},
     "output_type": "execute_result"
    }
   ],
   "source": [
    "a = np.arange(6).reshape(2,-1)\n",
    "a"
   ]
  },
  {
   "cell_type": "code",
   "execution_count": 59,
   "id": "5e3d9fae",
   "metadata": {},
   "outputs": [
    {
     "data": {
      "text/plain": [
       "array([[0, 1],\n",
       "       [2, 3],\n",
       "       [4, 5]])"
      ]
     },
     "execution_count": 59,
     "metadata": {},
     "output_type": "execute_result"
    }
   ],
   "source": [
    "b = np.arange(6).reshape(3,-1)\n",
    "b"
   ]
  },
  {
   "cell_type": "code",
   "execution_count": 60,
   "id": "778a4340",
   "metadata": {},
   "outputs": [
    {
     "data": {
      "text/plain": [
       "array([[10, 13],\n",
       "       [28, 40]])"
      ]
     },
     "execution_count": 60,
     "metadata": {},
     "output_type": "execute_result"
    }
   ],
   "source": [
    "np.dot(a,b)   # dot product(내적;  Inner Product)"
   ]
  },
  {
   "cell_type": "code",
   "execution_count": 61,
   "id": "b3b9413b",
   "metadata": {},
   "outputs": [
    {
     "data": {
      "text/plain": [
       "array([[10, 13],\n",
       "       [28, 40]])"
      ]
     },
     "execution_count": 61,
     "metadata": {},
     "output_type": "execute_result"
    }
   ],
   "source": [
    "# dif(a)   배열 객체에도 dot(내적)이 있음\n",
    "a.dot(b)   # a·b  수학적으로는 이렇게 표현"
   ]
  },
  {
   "cell_type": "markdown",
   "id": "df05577c",
   "metadata": {},
   "source": [
    "### 파이썬에서는 증감연산자 ++, -- 가 없음"
   ]
  },
  {
   "cell_type": "code",
   "execution_count": 62,
   "id": "8709185e",
   "metadata": {},
   "outputs": [
    {
     "data": {
      "text/plain": [
       "array([0, 1, 2, 3, 4])"
      ]
     },
     "execution_count": 62,
     "metadata": {},
     "output_type": "execute_result"
    }
   ],
   "source": [
    "a = np.arange(5)\n",
    "a"
   ]
  },
  {
   "cell_type": "code",
   "execution_count": 63,
   "id": "4b248a02",
   "metadata": {},
   "outputs": [
    {
     "data": {
      "text/plain": [
       "array([1, 2, 3, 4, 5])"
      ]
     },
     "execution_count": 63,
     "metadata": {},
     "output_type": "execute_result"
    }
   ],
   "source": [
    "a + 1"
   ]
  },
  {
   "cell_type": "code",
   "execution_count": 64,
   "id": "7688a94a",
   "metadata": {},
   "outputs": [
    {
     "data": {
      "text/plain": [
       "array([0, 1, 2, 3, 4])"
      ]
     },
     "execution_count": 64,
     "metadata": {},
     "output_type": "execute_result"
    }
   ],
   "source": [
    "a"
   ]
  },
  {
   "cell_type": "code",
   "execution_count": 66,
   "id": "f83d3dc0",
   "metadata": {},
   "outputs": [
    {
     "data": {
      "text/plain": [
       "array([2, 3, 4, 5, 6])"
      ]
     },
     "execution_count": 66,
     "metadata": {},
     "output_type": "execute_result"
    }
   ],
   "source": [
    "a += 1   # += 을 쓰면 원본 배열에 덮어써버림\n",
    "a"
   ]
  },
  {
   "cell_type": "code",
   "execution_count": 69,
   "id": "3fba0bdd",
   "metadata": {},
   "outputs": [
    {
     "data": {
      "text/plain": [
       "array([0, 1, 2, 3, 4])"
      ]
     },
     "execution_count": 69,
     "metadata": {},
     "output_type": "execute_result"
    }
   ],
   "source": [
    "a -= 1\n",
    "a"
   ]
  },
  {
   "cell_type": "code",
   "execution_count": 70,
   "id": "fbee7341",
   "metadata": {},
   "outputs": [
    {
     "data": {
      "text/plain": [
       "array([0, 1, 2, 3, 4])"
      ]
     },
     "execution_count": 70,
     "metadata": {},
     "output_type": "execute_result"
    }
   ],
   "source": [
    "a = np.arange(5)\n",
    "a"
   ]
  },
  {
   "cell_type": "code",
   "execution_count": 71,
   "id": "60612ef5",
   "metadata": {},
   "outputs": [
    {
     "data": {
      "text/plain": [
       "10"
      ]
     },
     "execution_count": 71,
     "metadata": {},
     "output_type": "execute_result"
    }
   ],
   "source": [
    "a.sum()"
   ]
  },
  {
   "cell_type": "code",
   "execution_count": 73,
   "id": "328fbfc2",
   "metadata": {},
   "outputs": [
    {
     "data": {
      "text/plain": [
       "(4, 0, 2.0, 1.4142135623730951)"
      ]
     },
     "execution_count": 73,
     "metadata": {},
     "output_type": "execute_result"
    }
   ],
   "source": [
    "a.max(), a.min(), a.mean(), a.std()   #std() : 표준편차"
   ]
  },
  {
   "cell_type": "code",
   "execution_count": null,
   "id": "28258920",
   "metadata": {},
   "outputs": [],
   "source": [
    "# 평균(m)\n",
    "# 분산(Variance) : 각원소와 평균의 차이의 제곱, 이들을 모두 합산, 그 값을 원소의 갯수로 나눔\n",
    "# 표준편차(std) : 분산의 제곱근"
   ]
  },
  {
   "cell_type": "code",
   "execution_count": 124,
   "id": "ebdb17a5",
   "metadata": {},
   "outputs": [
    {
     "data": {
      "text/plain": [
       "1.4142135623730951"
      ]
     },
     "execution_count": 124,
     "metadata": {},
     "output_type": "execute_result"
    }
   ],
   "source": [
    "b = a - a.mean()\n",
    "c = b ** 2\n",
    "lst = list(a)\n",
    "d = c.sum() / len(lst)\n",
    "d **(1/2)"
   ]
  },
  {
   "cell_type": "code",
   "execution_count": 111,
   "id": "759b2942",
   "metadata": {},
   "outputs": [
    {
     "data": {
      "text/plain": [
       "0.0"
      ]
     },
     "execution_count": 111,
     "metadata": {},
     "output_type": "execute_result"
    }
   ],
   "source": [
    "b.sum()"
   ]
  },
  {
   "cell_type": "code",
   "execution_count": 112,
   "id": "090ebb39",
   "metadata": {},
   "outputs": [
    {
     "data": {
      "text/plain": [
       "array([-2., -1.,  0.,  1.,  2.])"
      ]
     },
     "execution_count": 112,
     "metadata": {},
     "output_type": "execute_result"
    }
   ],
   "source": [
    "b"
   ]
  },
  {
   "cell_type": "code",
   "execution_count": 113,
   "id": "d0bca5e5",
   "metadata": {},
   "outputs": [
    {
     "data": {
      "text/plain": [
       "array([4., 1., 0., 1., 4.])"
      ]
     },
     "execution_count": 113,
     "metadata": {},
     "output_type": "execute_result"
    }
   ],
   "source": [
    "b ** 2"
   ]
  },
  {
   "cell_type": "code",
   "execution_count": 116,
   "id": "84a8d959",
   "metadata": {},
   "outputs": [
    {
     "data": {
      "text/plain": [
       "10.0"
      ]
     },
     "execution_count": 116,
     "metadata": {},
     "output_type": "execute_result"
    }
   ],
   "source": [
    "(b ** 2).sum()"
   ]
  },
  {
   "cell_type": "code",
   "execution_count": 120,
   "id": "a8d27870",
   "metadata": {},
   "outputs": [
    {
     "data": {
      "text/plain": [
       "array([-2., -1.,  0.,  1.,  2.])"
      ]
     },
     "execution_count": 120,
     "metadata": {},
     "output_type": "execute_result"
    }
   ],
   "source": [
    "b"
   ]
  },
  {
   "cell_type": "code",
   "execution_count": 123,
   "id": "9a1aea8a",
   "metadata": {},
   "outputs": [
    {
     "data": {
      "text/plain": [
       "1.4142135623730951"
      ]
     },
     "execution_count": 123,
     "metadata": {},
     "output_type": "execute_result"
    }
   ],
   "source": [
    "a.std()"
   ]
  },
  {
   "cell_type": "code",
   "execution_count": 125,
   "id": "46c733b6",
   "metadata": {},
   "outputs": [
    {
     "data": {
      "text/plain": [
       "array([10, 11, 12, 13, 14, 15])"
      ]
     },
     "execution_count": 125,
     "metadata": {},
     "output_type": "execute_result"
    }
   ],
   "source": [
    "a = np.arange(10, 16)\n",
    "a"
   ]
  },
  {
   "cell_type": "code",
   "execution_count": 127,
   "id": "69c929a1",
   "metadata": {},
   "outputs": [
    {
     "data": {
      "text/plain": [
       "(12, 15, 10, 10)"
      ]
     },
     "execution_count": 127,
     "metadata": {},
     "output_type": "execute_result"
    }
   ],
   "source": [
    "a[2], a[-1], a[0], a[-6]   # -1 은 마지막 인덱스"
   ]
  },
  {
   "cell_type": "code",
   "execution_count": 128,
   "id": "7d0b1403",
   "metadata": {},
   "outputs": [
    {
     "data": {
      "text/plain": [
       "15"
      ]
     },
     "execution_count": 128,
     "metadata": {},
     "output_type": "execute_result"
    }
   ],
   "source": [
    "a[a.size-1]"
   ]
  },
  {
   "cell_type": "code",
   "execution_count": 129,
   "id": "65a9b7bd",
   "metadata": {},
   "outputs": [
    {
     "data": {
      "text/plain": [
       "array([11, 12, 13])"
      ]
     },
     "execution_count": 129,
     "metadata": {},
     "output_type": "execute_result"
    }
   ],
   "source": [
    "a[[1,2,3]]   # 서로 다른 기능의 [], 끝 []은 index, 안의 []은 list"
   ]
  },
  {
   "cell_type": "code",
   "execution_count": 130,
   "id": "6ad860ba",
   "metadata": {},
   "outputs": [
    {
     "data": {
      "text/plain": [
       "array([[ 1,  2,  3,  4],\n",
       "       [ 5,  6,  7,  8],\n",
       "       [ 9, 10, 11, 12],\n",
       "       [13, 14, 15, 16]])"
      ]
     },
     "execution_count": 130,
     "metadata": {},
     "output_type": "execute_result"
    }
   ],
   "source": [
    "a = np.arange(1, 17).reshape(4,-1)\n",
    "a"
   ]
  },
  {
   "cell_type": "code",
   "execution_count": 134,
   "id": "29aa454e",
   "metadata": {},
   "outputs": [
    {
     "name": "stdout",
     "output_type": "stream",
     "text": [
      "[1 2 3 4]\n",
      "[5 6 7 8]\n",
      "[ 9 10 11 12]\n",
      "[13 14 15 16]\n"
     ]
    }
   ],
   "source": [
    "for e in a:\n",
    "    print(e)"
   ]
  },
  {
   "cell_type": "code",
   "execution_count": null,
   "id": "cca5cf4a",
   "metadata": {},
   "outputs": [],
   "source": [
    "# a의 원소 e는 행"
   ]
  },
  {
   "cell_type": "code",
   "execution_count": null,
   "id": "aa10da34",
   "metadata": {},
   "outputs": [],
   "source": [
    "for e in a:\n",
    "    for i in e:\n",
    "        print(i, end=\" \")"
   ]
  },
  {
   "cell_type": "code",
   "execution_count": 136,
   "id": "2382997c",
   "metadata": {},
   "outputs": [
    {
     "data": {
      "text/plain": [
       "(7,\n",
       " 7,\n",
       " array([[ 5,  6,  7,  8],\n",
       "        [ 9, 10, 11, 12]]))"
      ]
     },
     "execution_count": 136,
     "metadata": {},
     "output_type": "execute_result"
    }
   ],
   "source": [
    "a[1][2], a[1,2], a[[1,2]]   # [행,열]"
   ]
  },
  {
   "cell_type": "code",
   "execution_count": null,
   "id": "b5642df6",
   "metadata": {},
   "outputs": [],
   "source": [
    "# a[1][2] = a[1,2] -> index\n",
    "\n",
    "# a[] 안의 [1,2] -> 1,2번 (다수개) 가지고 온다"
   ]
  },
  {
   "cell_type": "code",
   "execution_count": 138,
   "id": "5924affb",
   "metadata": {},
   "outputs": [
    {
     "data": {
      "text/plain": [
       "array([[13, 14, 15, 16],\n",
       "       [ 5,  6,  7,  8]])"
      ]
     },
     "execution_count": 138,
     "metadata": {},
     "output_type": "execute_result"
    }
   ],
   "source": [
    "a[[3,1]]"
   ]
  },
  {
   "cell_type": "code",
   "execution_count": 142,
   "id": "d7440fb4",
   "metadata": {},
   "outputs": [
    {
     "data": {
      "text/plain": [
       "array([[ True, False, False, False],\n",
       "       [False, False, False, False],\n",
       "       [False, False, False, False],\n",
       "       [False, False, False, False]])"
      ]
     },
     "execution_count": 142,
     "metadata": {},
     "output_type": "execute_result"
    }
   ],
   "source": [
    "# fancy indexing : 인덱서 안에서 정수나 불리언 배열을 사용하여 배열의 값을 추출해내는 방법\n",
    "ba = np.array([True, False, False, False, False, False, False, False, False, False, False, False, False, False, False, False])\n",
    "ba = ba.reshape(4,-1)\n",
    "ba"
   ]
  },
  {
   "cell_type": "code",
   "execution_count": 143,
   "id": "468ae721",
   "metadata": {},
   "outputs": [
    {
     "data": {
      "text/plain": [
       "array([1])"
      ]
     },
     "execution_count": 143,
     "metadata": {},
     "output_type": "execute_result"
    }
   ],
   "source": [
    "a[ba]"
   ]
  },
  {
   "cell_type": "code",
   "execution_count": 144,
   "id": "23702280",
   "metadata": {},
   "outputs": [
    {
     "data": {
      "text/plain": [
       "array([[ True, False, False, False],\n",
       "       [False, False, False, False],\n",
       "       [False, False, False, False],\n",
       "       [False, False, False, False]])"
      ]
     },
     "execution_count": 144,
     "metadata": {},
     "output_type": "execute_result"
    }
   ],
   "source": [
    "a<2"
   ]
  },
  {
   "cell_type": "code",
   "execution_count": 145,
   "id": "e5844042",
   "metadata": {},
   "outputs": [
    {
     "data": {
      "text/plain": [
       "array([1])"
      ]
     },
     "execution_count": 145,
     "metadata": {},
     "output_type": "execute_result"
    }
   ],
   "source": [
    "a[a<2]"
   ]
  },
  {
   "cell_type": "code",
   "execution_count": 146,
   "id": "253fe4d2",
   "metadata": {},
   "outputs": [
    {
     "data": {
      "text/plain": [
       "7"
      ]
     },
     "execution_count": 146,
     "metadata": {},
     "output_type": "execute_result"
    }
   ],
   "source": [
    "a[1,2]"
   ]
  },
  {
   "cell_type": "code",
   "execution_count": 147,
   "id": "31e73249",
   "metadata": {},
   "outputs": [
    {
     "data": {
      "text/plain": [
       "array([[ 5,  6,  7,  8],\n",
       "       [ 9, 10, 11, 12]])"
      ]
     },
     "execution_count": 147,
     "metadata": {},
     "output_type": "execute_result"
    }
   ],
   "source": [
    "a[[1,2]]"
   ]
  },
  {
   "cell_type": "code",
   "execution_count": 148,
   "id": "90a323c3",
   "metadata": {},
   "outputs": [
    {
     "data": {
      "text/plain": [
       "[1, 2, 3, 4, 5]"
      ]
     },
     "execution_count": 148,
     "metadata": {},
     "output_type": "execute_result"
    }
   ],
   "source": [
    "nums = [1,2,3,4,5]\n",
    "nums[0:5]"
   ]
  },
  {
   "cell_type": "code",
   "execution_count": 149,
   "id": "dff687c7",
   "metadata": {},
   "outputs": [
    {
     "data": {
      "text/plain": [
       "3"
      ]
     },
     "execution_count": 149,
     "metadata": {},
     "output_type": "execute_result"
    }
   ],
   "source": [
    "nums[2]"
   ]
  },
  {
   "cell_type": "code",
   "execution_count": 151,
   "id": "73b7c420",
   "metadata": {},
   "outputs": [
    {
     "data": {
      "text/plain": [
       "[1, 3, 5]"
      ]
     },
     "execution_count": 151,
     "metadata": {},
     "output_type": "execute_result"
    }
   ],
   "source": [
    "nums[::2]"
   ]
  },
  {
   "cell_type": "code",
   "execution_count": 152,
   "id": "fabe74e9",
   "metadata": {},
   "outputs": [
    {
     "data": {
      "text/plain": [
       "array([10, 11, 12, 13, 14, 15])"
      ]
     },
     "execution_count": 152,
     "metadata": {},
     "output_type": "execute_result"
    }
   ],
   "source": [
    "a = np.arange(10,16)\n",
    "a"
   ]
  },
  {
   "cell_type": "code",
   "execution_count": 153,
   "id": "32f84e18",
   "metadata": {},
   "outputs": [
    {
     "data": {
      "text/plain": [
       "array([11, 12, 13, 14])"
      ]
     },
     "execution_count": 153,
     "metadata": {},
     "output_type": "execute_result"
    }
   ],
   "source": [
    "a[1:5]"
   ]
  },
  {
   "cell_type": "code",
   "execution_count": 154,
   "id": "6517e610",
   "metadata": {},
   "outputs": [
    {
     "data": {
      "text/plain": [
       "array([11, 13])"
      ]
     },
     "execution_count": 154,
     "metadata": {},
     "output_type": "execute_result"
    }
   ],
   "source": [
    "a[1:5:2]"
   ]
  },
  {
   "cell_type": "code",
   "execution_count": 155,
   "id": "01969f38",
   "metadata": {},
   "outputs": [
    {
     "data": {
      "text/plain": [
       "array([10, 11, 12, 13, 14, 15])"
      ]
     },
     "execution_count": 155,
     "metadata": {},
     "output_type": "execute_result"
    }
   ],
   "source": [
    "a[::]"
   ]
  },
  {
   "cell_type": "code",
   "execution_count": 156,
   "id": "fec414e4",
   "metadata": {},
   "outputs": [],
   "source": [
    "b = a[::]"
   ]
  },
  {
   "cell_type": "code",
   "execution_count": 157,
   "id": "e8f91744",
   "metadata": {},
   "outputs": [
    {
     "data": {
      "text/plain": [
       "<memory at 0x0000018D011A4C40>"
      ]
     },
     "execution_count": 157,
     "metadata": {},
     "output_type": "execute_result"
    }
   ],
   "source": [
    "b.data"
   ]
  },
  {
   "cell_type": "code",
   "execution_count": 158,
   "id": "e8a94721",
   "metadata": {},
   "outputs": [
    {
     "data": {
      "text/plain": [
       "[0, 1, 2, 3, 4]"
      ]
     },
     "execution_count": 158,
     "metadata": {},
     "output_type": "execute_result"
    }
   ],
   "source": [
    "nums = list(range(5))\n",
    "nums"
   ]
  },
  {
   "cell_type": "code",
   "execution_count": 159,
   "id": "ad34db5e",
   "metadata": {},
   "outputs": [
    {
     "data": {
      "text/plain": [
       "[0, 1, 2, 3, 4]"
      ]
     },
     "execution_count": 159,
     "metadata": {},
     "output_type": "execute_result"
    }
   ],
   "source": [
    "nums2 = nums[:]\n",
    "nums2"
   ]
  },
  {
   "cell_type": "code",
   "execution_count": 160,
   "id": "b8fafea7",
   "metadata": {},
   "outputs": [
    {
     "data": {
      "text/plain": [
       "[5, 1, 2, 3, 4]"
      ]
     },
     "execution_count": 160,
     "metadata": {},
     "output_type": "execute_result"
    }
   ],
   "source": [
    "nums2[0] = 5\n",
    "nums2"
   ]
  },
  {
   "cell_type": "code",
   "execution_count": 161,
   "id": "e2540995",
   "metadata": {},
   "outputs": [
    {
     "data": {
      "text/plain": [
       "[0, 1, 2, 3, 4]"
      ]
     },
     "execution_count": 161,
     "metadata": {},
     "output_type": "execute_result"
    }
   ],
   "source": [
    "nums"
   ]
  },
  {
   "cell_type": "code",
   "execution_count": 162,
   "id": "c880ec39",
   "metadata": {},
   "outputs": [
    {
     "data": {
      "text/plain": [
       "array([0, 1, 2, 3, 4])"
      ]
     },
     "execution_count": 162,
     "metadata": {},
     "output_type": "execute_result"
    }
   ],
   "source": [
    "a = np.arange(5)\n",
    "a"
   ]
  },
  {
   "cell_type": "code",
   "execution_count": 163,
   "id": "a9660bbf",
   "metadata": {},
   "outputs": [
    {
     "data": {
      "text/plain": [
       "array([0, 1, 2, 3, 4])"
      ]
     },
     "execution_count": 163,
     "metadata": {},
     "output_type": "execute_result"
    }
   ],
   "source": [
    "b = a[:]   # ndarray에서는 a를 슬라이싱해서 b로 가져오더라도, b를 바꾸면 a도 바뀐다\n",
    "b"
   ]
  },
  {
   "cell_type": "code",
   "execution_count": 164,
   "id": "8caad216",
   "metadata": {},
   "outputs": [
    {
     "data": {
      "text/plain": [
       "array([5, 1, 2, 3, 4])"
      ]
     },
     "execution_count": 164,
     "metadata": {},
     "output_type": "execute_result"
    }
   ],
   "source": [
    "b[0] = 5\n",
    "b"
   ]
  },
  {
   "cell_type": "code",
   "execution_count": 165,
   "id": "d0eb7d93",
   "metadata": {},
   "outputs": [
    {
     "data": {
      "text/plain": [
       "array([5, 1, 2, 3, 4])"
      ]
     },
     "execution_count": 165,
     "metadata": {},
     "output_type": "execute_result"
    }
   ],
   "source": [
    "a"
   ]
  },
  {
   "cell_type": "code",
   "execution_count": 168,
   "id": "d429a517",
   "metadata": {},
   "outputs": [
    {
     "data": {
      "text/plain": [
       "array([[10, 11, 12],\n",
       "       [13, 14, 15],\n",
       "       [16, 17, 18]])"
      ]
     },
     "execution_count": 168,
     "metadata": {},
     "output_type": "execute_result"
    }
   ],
   "source": [
    "A = np.arange(10,19).reshape(3,-1)\n",
    "A"
   ]
  },
  {
   "cell_type": "code",
   "execution_count": 171,
   "id": "e23ae9fa",
   "metadata": {},
   "outputs": [
    {
     "data": {
      "text/plain": [
       "array([11, 12])"
      ]
     },
     "execution_count": 171,
     "metadata": {},
     "output_type": "execute_result"
    }
   ],
   "source": [
    "A[0, 1:]"
   ]
  },
  {
   "cell_type": "code",
   "execution_count": 172,
   "id": "0b9bafe9",
   "metadata": {},
   "outputs": [
    {
     "data": {
      "text/plain": [
       "array([[11, 12],\n",
       "       [14, 15]])"
      ]
     },
     "execution_count": 172,
     "metadata": {},
     "output_type": "execute_result"
    }
   ],
   "source": [
    "A[0:2, 1:]"
   ]
  },
  {
   "cell_type": "code",
   "execution_count": 176,
   "id": "9dcccdfd",
   "metadata": {},
   "outputs": [
    {
     "data": {
      "text/plain": [
       "array([10, 13, 16])"
      ]
     },
     "execution_count": 176,
     "metadata": {},
     "output_type": "execute_result"
    }
   ],
   "source": [
    "A[:,0]"
   ]
  },
  {
   "cell_type": "code",
   "execution_count": 183,
   "id": "75e4ff66",
   "metadata": {},
   "outputs": [
    {
     "data": {
      "text/plain": [
       "array([[11, 12],\n",
       "       [17, 18]])"
      ]
     },
     "execution_count": 183,
     "metadata": {},
     "output_type": "execute_result"
    }
   ],
   "source": [
    "A[[0,2], 1:]"
   ]
  },
  {
   "cell_type": "code",
   "execution_count": 186,
   "id": "dfb0af5c",
   "metadata": {},
   "outputs": [
    {
     "name": "stdout",
     "output_type": "stream",
     "text": [
      "10 11 12 13 14 15 16 17 18 "
     ]
    }
   ],
   "source": [
    "for e in A.flat:    # flat으로 행이 아닌 요소들을 추출 (변수)\n",
    "    print(e, end=\" \")"
   ]
  },
  {
   "cell_type": "code",
   "execution_count": 187,
   "id": "6299bdca",
   "metadata": {},
   "outputs": [
    {
     "name": "stdout",
     "output_type": "stream",
     "text": [
      "10 11 12 13 14 15 16 17 18 "
     ]
    }
   ],
   "source": [
    "for e in A.flatten():    # flatten()으로 행이 아닌 요소들을 추출 \n",
    "    print(e, end=\" \")"
   ]
  },
  {
   "cell_type": "code",
   "execution_count": 188,
   "id": "157f1081",
   "metadata": {},
   "outputs": [
    {
     "name": "stdout",
     "output_type": "stream",
     "text": [
      "10 11 12 13 14 15 16 17 18 "
     ]
    }
   ],
   "source": [
    "for e in A.ravel():    # flat으로 행이 아닌 요소들을 추출\n",
    "    print(e, end=\" \")"
   ]
  },
  {
   "cell_type": "code",
   "execution_count": 190,
   "id": "5ef3f2da",
   "metadata": {},
   "outputs": [
    {
     "data": {
      "text/plain": [
       "array([[10, 11, 12],\n",
       "       [13, 14, 15],\n",
       "       [16, 17, 18]])"
      ]
     },
     "execution_count": 190,
     "metadata": {},
     "output_type": "execute_result"
    }
   ],
   "source": [
    "A"
   ]
  },
  {
   "cell_type": "code",
   "execution_count": 192,
   "id": "92bfa902",
   "metadata": {},
   "outputs": [
    {
     "data": {
      "text/plain": [
       "array([39, 42, 45])"
      ]
     },
     "execution_count": 192,
     "metadata": {},
     "output_type": "execute_result"
    }
   ],
   "source": [
    "np.apply_along_axis(np.sum, axis=0, arr=A)   # axis=0 은 행"
   ]
  },
  {
   "cell_type": "code",
   "execution_count": 195,
   "id": "639d8ee0",
   "metadata": {},
   "outputs": [
    {
     "data": {
      "text/plain": [
       "array([12, 15, 18])"
      ]
     },
     "execution_count": 195,
     "metadata": {},
     "output_type": "execute_result"
    }
   ],
   "source": [
    "np.apply_along_axis(np.max, axis=1, arr=A)   # axis=0 은 행"
   ]
  },
  {
   "cell_type": "code",
   "execution_count": 198,
   "id": "42c3b7f4",
   "metadata": {},
   "outputs": [
    {
     "data": {
      "text/plain": [
       "56"
      ]
     },
     "execution_count": 198,
     "metadata": {},
     "output_type": "execute_result"
    }
   ],
   "source": [
    "sum = 0\n",
    "for e in A.flat:\n",
    "    if e % 2 == 1:\n",
    "        sum += e\n",
    "sum"
   ]
  },
  {
   "cell_type": "code",
   "execution_count": 206,
   "id": "0ac5a018",
   "metadata": {},
   "outputs": [
    {
     "data": {
      "text/plain": [
       "56"
      ]
     },
     "execution_count": 206,
     "metadata": {},
     "output_type": "execute_result"
    }
   ],
   "source": [
    "sum = A[A % 2 == 1].sum()\n",
    "sum"
   ]
  },
  {
   "cell_type": "code",
   "execution_count": 207,
   "id": "2b8372d7",
   "metadata": {},
   "outputs": [
    {
     "data": {
      "text/plain": [
       "array([[10, 11, 12, 13, 14, 15, 16, 17, 18]])"
      ]
     },
     "execution_count": 207,
     "metadata": {},
     "output_type": "execute_result"
    }
   ],
   "source": [
    "A.reshape(1,-1)"
   ]
  },
  {
   "cell_type": "code",
   "execution_count": 208,
   "id": "4b27672b",
   "metadata": {},
   "outputs": [
    {
     "data": {
      "text/plain": [
       "<memory at 0x0000018D019E4110>"
      ]
     },
     "execution_count": 208,
     "metadata": {},
     "output_type": "execute_result"
    }
   ],
   "source": [
    "A1 = A.reshape(1,-1)\n",
    "A1.data"
   ]
  },
  {
   "cell_type": "code",
   "execution_count": 211,
   "id": "e89aa9a2",
   "metadata": {},
   "outputs": [
    {
     "data": {
      "text/plain": [
       "array([[10, 11, 12],\n",
       "       [13, 14, 15],\n",
       "       [16, 17, 18]])"
      ]
     },
     "execution_count": 211,
     "metadata": {},
     "output_type": "execute_result"
    }
   ],
   "source": [
    "A1.shape = (3, -1)\n",
    "A1"
   ]
  },
  {
   "cell_type": "code",
   "execution_count": 212,
   "id": "edbce8e2",
   "metadata": {},
   "outputs": [
    {
     "data": {
      "text/plain": [
       "<memory at 0x0000018D019E41E0>"
      ]
     },
     "execution_count": 212,
     "metadata": {},
     "output_type": "execute_result"
    }
   ],
   "source": [
    "A1.data"
   ]
  },
  {
   "cell_type": "code",
   "execution_count": 213,
   "id": "280254f0",
   "metadata": {},
   "outputs": [
    {
     "data": {
      "text/plain": [
       "array([[10, 13, 16],\n",
       "       [11, 14, 17],\n",
       "       [12, 15, 18]])"
      ]
     },
     "execution_count": 213,
     "metadata": {},
     "output_type": "execute_result"
    }
   ],
   "source": [
    "A.transpose()   # 행과 열 값 바꾸기, 원본은 바뀌지 않음"
   ]
  },
  {
   "cell_type": "code",
   "execution_count": 215,
   "id": "e49ae2a0",
   "metadata": {},
   "outputs": [
    {
     "data": {
      "text/plain": [
       "array([[10, 11, 12],\n",
       "       [13, 14, 15],\n",
       "       [16, 17, 18]])"
      ]
     },
     "execution_count": 215,
     "metadata": {},
     "output_type": "execute_result"
    }
   ],
   "source": [
    "A"
   ]
  },
  {
   "cell_type": "code",
   "execution_count": 216,
   "id": "5fff363f",
   "metadata": {},
   "outputs": [],
   "source": [
    "A = np.ones((3,3))\n",
    "B = np.zeros((3,3))"
   ]
  },
  {
   "cell_type": "code",
   "execution_count": 217,
   "id": "a49f5952",
   "metadata": {},
   "outputs": [
    {
     "data": {
      "text/plain": [
       "array([[1., 1., 1.],\n",
       "       [1., 1., 1.],\n",
       "       [1., 1., 1.],\n",
       "       [0., 0., 0.],\n",
       "       [0., 0., 0.],\n",
       "       [0., 0., 0.]])"
      ]
     },
     "execution_count": 217,
     "metadata": {},
     "output_type": "execute_result"
    }
   ],
   "source": [
    "np.vstack([A,B])"
   ]
  },
  {
   "cell_type": "code",
   "execution_count": 218,
   "id": "75aa4e75",
   "metadata": {},
   "outputs": [
    {
     "data": {
      "text/plain": [
       "array([[1., 1., 1., 0., 0., 0.],\n",
       "       [1., 1., 1., 0., 0., 0.],\n",
       "       [1., 1., 1., 0., 0., 0.]])"
      ]
     },
     "execution_count": 218,
     "metadata": {},
     "output_type": "execute_result"
    }
   ],
   "source": [
    "np.hstack([A,B])"
   ]
  },
  {
   "cell_type": "code",
   "execution_count": 224,
   "id": "7384498c",
   "metadata": {},
   "outputs": [
    {
     "data": {
      "text/plain": [
       "array([[1, 2, 3],\n",
       "       [4, 5, 6],\n",
       "       [7, 8, 9]])"
      ]
     },
     "execution_count": 224,
     "metadata": {},
     "output_type": "execute_result"
    }
   ],
   "source": [
    "np.row_stack([[1,2,3],[4,5,6],[7,8,9]])"
   ]
  },
  {
   "cell_type": "code",
   "execution_count": 228,
   "id": "5a35e76a",
   "metadata": {},
   "outputs": [
    {
     "data": {
      "text/plain": [
       "array([[ 0,  1,  2,  3],\n",
       "       [ 4,  5,  6,  7],\n",
       "       [ 8,  9, 10, 11],\n",
       "       [12, 13, 14, 15]])"
      ]
     },
     "execution_count": 228,
     "metadata": {},
     "output_type": "execute_result"
    }
   ],
   "source": [
    "A = np.arange(16).reshape(4,-1)\n",
    "A"
   ]
  },
  {
   "cell_type": "code",
   "execution_count": 229,
   "id": "02219800",
   "metadata": {},
   "outputs": [
    {
     "data": {
      "text/plain": [
       "[array([[ 0,  1],\n",
       "        [ 4,  5],\n",
       "        [ 8,  9],\n",
       "        [12, 13]]),\n",
       " array([[ 2,  3],\n",
       "        [ 6,  7],\n",
       "        [10, 11],\n",
       "        [14, 15]])]"
      ]
     },
     "execution_count": 229,
     "metadata": {},
     "output_type": "execute_result"
    }
   ],
   "source": [
    "# 배열 쪼개기 (수직분리 / 수평분리)\n",
    "(a1,a2) = np.hsplit(A, 2)"
   ]
  },
  {
   "cell_type": "code",
   "execution_count": 230,
   "id": "36fcd404",
   "metadata": {},
   "outputs": [
    {
     "data": {
      "text/plain": [
       "[array([[0, 1, 2, 3],\n",
       "        [4, 5, 6, 7]]),\n",
       " array([[ 8,  9, 10, 11],\n",
       "        [12, 13, 14, 15]])]"
      ]
     },
     "execution_count": 230,
     "metadata": {},
     "output_type": "execute_result"
    }
   ],
   "source": [
    "np.vsplit(A, 2)"
   ]
  },
  {
   "cell_type": "code",
   "execution_count": 231,
   "id": "cdc2df37",
   "metadata": {},
   "outputs": [
    {
     "data": {
      "text/plain": [
       "[array([[ 0],\n",
       "        [ 4],\n",
       "        [ 8],\n",
       "        [12]]),\n",
       " array([[ 1,  2],\n",
       "        [ 5,  6],\n",
       "        [ 9, 10],\n",
       "        [13, 14]]),\n",
       " array([[ 3],\n",
       "        [ 7],\n",
       "        [11],\n",
       "        [15]])]"
      ]
     },
     "execution_count": 231,
     "metadata": {},
     "output_type": "execute_result"
    }
   ],
   "source": [
    "np.split(A, [1,3], axis=1)"
   ]
  },
  {
   "cell_type": "code",
   "execution_count": 242,
   "id": "1dfbc5cf",
   "metadata": {},
   "outputs": [
    {
     "data": {
      "text/plain": [
       "[array([[0, 1, 2, 3],\n",
       "        [4, 5, 6, 7]]),\n",
       " array([[ 8,  9, 10, 11]]),\n",
       " array([[12, 13, 14, 15]])]"
      ]
     },
     "execution_count": 242,
     "metadata": {},
     "output_type": "execute_result"
    }
   ],
   "source": [
    "np.split(A, [2,3], axis=0)    # 2에서 자르고, 3에서 자른다"
   ]
  },
  {
   "cell_type": "markdown",
   "id": "fb532526",
   "metadata": {},
   "source": [
    "## Views, Copies"
   ]
  },
  {
   "cell_type": "code",
   "execution_count": 243,
   "id": "d3c00772",
   "metadata": {},
   "outputs": [
    {
     "data": {
      "text/plain": [
       "array([1, 2, 3, 4])"
      ]
     },
     "execution_count": 243,
     "metadata": {},
     "output_type": "execute_result"
    }
   ],
   "source": [
    "a = np.arange(1,5)\n",
    "a"
   ]
  },
  {
   "cell_type": "code",
   "execution_count": 245,
   "id": "43a3a1b2",
   "metadata": {},
   "outputs": [],
   "source": [
    "b = a    # data가 복사되는 것이 아닌 참조(메모리주소)만 복사됨"
   ]
  },
  {
   "cell_type": "code",
   "execution_count": 246,
   "id": "7534592f",
   "metadata": {},
   "outputs": [],
   "source": [
    "a[2] = 0"
   ]
  },
  {
   "cell_type": "code",
   "execution_count": 247,
   "id": "7f624e9b",
   "metadata": {},
   "outputs": [
    {
     "data": {
      "text/plain": [
       "array([1, 2, 0, 4])"
      ]
     },
     "execution_count": 247,
     "metadata": {},
     "output_type": "execute_result"
    }
   ],
   "source": [
    "b"
   ]
  },
  {
   "cell_type": "code",
   "execution_count": 248,
   "id": "4b8c017d",
   "metadata": {},
   "outputs": [
    {
     "data": {
      "text/plain": [
       "array([1, 2])"
      ]
     },
     "execution_count": 248,
     "metadata": {},
     "output_type": "execute_result"
    }
   ],
   "source": [
    "c = a[0:2]\n",
    "c"
   ]
  },
  {
   "cell_type": "code",
   "execution_count": 252,
   "id": "4758a356",
   "metadata": {},
   "outputs": [
    {
     "data": {
      "text/plain": [
       "(array([5, 2, 0, 4]), array([5, 2]))"
      ]
     },
     "execution_count": 252,
     "metadata": {},
     "output_type": "execute_result"
    }
   ],
   "source": [
    "a[0] = 5\n",
    "a, c"
   ]
  },
  {
   "cell_type": "code",
   "execution_count": 253,
   "id": "1285c88c",
   "metadata": {},
   "outputs": [
    {
     "data": {
      "text/plain": [
       "array([5, 7])"
      ]
     },
     "execution_count": 253,
     "metadata": {},
     "output_type": "execute_result"
    }
   ],
   "source": [
    "c[1] = 7\n",
    "c"
   ]
  },
  {
   "cell_type": "code",
   "execution_count": 254,
   "id": "77757088",
   "metadata": {},
   "outputs": [
    {
     "data": {
      "text/plain": [
       "array([1, 2, 3, 4])"
      ]
     },
     "execution_count": 254,
     "metadata": {},
     "output_type": "execute_result"
    }
   ],
   "source": [
    "a = np.arange(1,5)\n",
    "a"
   ]
  },
  {
   "cell_type": "code",
   "execution_count": 255,
   "id": "a878b990",
   "metadata": {},
   "outputs": [],
   "source": [
    "b = a.copy()"
   ]
  },
  {
   "cell_type": "code",
   "execution_count": 256,
   "id": "b24e7a2f",
   "metadata": {},
   "outputs": [
    {
     "data": {
      "text/plain": [
       "array([5, 2, 3, 4])"
      ]
     },
     "execution_count": 256,
     "metadata": {},
     "output_type": "execute_result"
    }
   ],
   "source": [
    "b[0] = 5\n",
    "b"
   ]
  },
  {
   "cell_type": "code",
   "execution_count": 257,
   "id": "f5ca4087",
   "metadata": {},
   "outputs": [
    {
     "data": {
      "text/plain": [
       "array([1, 2, 3, 4])"
      ]
     },
     "execution_count": 257,
     "metadata": {},
     "output_type": "execute_result"
    }
   ],
   "source": [
    "a"
   ]
  },
  {
   "cell_type": "code",
   "execution_count": 258,
   "id": "f1ea1f9a",
   "metadata": {},
   "outputs": [
    {
     "data": {
      "text/plain": [
       "array([3, 8])"
      ]
     },
     "execution_count": 258,
     "metadata": {},
     "output_type": "execute_result"
    }
   ],
   "source": [
    "v2 = np.array([1,2]) * np.array([3,4])\n",
    "v2"
   ]
  },
  {
   "cell_type": "code",
   "execution_count": 259,
   "id": "10a06ff8",
   "metadata": {},
   "outputs": [
    {
     "data": {
      "text/plain": [
       "array([1, 2, 3, 4])"
      ]
     },
     "execution_count": 259,
     "metadata": {},
     "output_type": "execute_result"
    }
   ],
   "source": [
    "a"
   ]
  },
  {
   "cell_type": "code",
   "execution_count": 260,
   "id": "fef87343",
   "metadata": {},
   "outputs": [
    {
     "data": {
      "text/plain": [
       "array([2, 4, 6, 8])"
      ]
     },
     "execution_count": 260,
     "metadata": {},
     "output_type": "execute_result"
    }
   ],
   "source": [
    "a * 2   # broadcasting"
   ]
  },
  {
   "cell_type": "code",
   "execution_count": 261,
   "id": "1a416ddb",
   "metadata": {},
   "outputs": [
    {
     "data": {
      "text/plain": [
       "array([2, 4, 6, 8])"
      ]
     },
     "execution_count": 261,
     "metadata": {},
     "output_type": "execute_result"
    }
   ],
   "source": [
    "a * [2,2,2,2]   # a*2 와 결과는 같음"
   ]
  },
  {
   "cell_type": "code",
   "execution_count": 262,
   "id": "4539fdba",
   "metadata": {},
   "outputs": [],
   "source": [
    "# a * [2,1] 처럼 원소 개수가 안맞으면 오류 발생"
   ]
  },
  {
   "cell_type": "code",
   "execution_count": 264,
   "id": "0cf73ca8",
   "metadata": {},
   "outputs": [
    {
     "name": "stdout",
     "output_type": "stream",
     "text": [
      "파일에 저장성공\n"
     ]
    }
   ],
   "source": [
    "np.save('saved_ndarray', a)\n",
    "print('파일에 저장성공')"
   ]
  },
  {
   "cell_type": "code",
   "execution_count": 266,
   "id": "2ca9b42f",
   "metadata": {},
   "outputs": [
    {
     "data": {
      "text/plain": [
       "array([1, 2, 3, 4])"
      ]
     },
     "execution_count": 266,
     "metadata": {},
     "output_type": "execute_result"
    }
   ],
   "source": [
    "fa = np.load('saved_ndarray.npy')\n",
    "fa"
   ]
  },
  {
   "cell_type": "code",
   "execution_count": 272,
   "id": "c5b7e9b8",
   "metadata": {},
   "outputs": [
    {
     "data": {
      "text/plain": [
       "(1., 123., 1.4, 23.)"
      ]
     },
     "execution_count": 272,
     "metadata": {},
     "output_type": "execute_result"
    }
   ],
   "source": [
    "# csv ( Comma Separated Values )\n",
    "'''\n",
    "id,value1,value2,value3\n",
    "1,123,1.4,23\n",
    "2,110,0.5,18\n",
    "3,164,2.1,19\n",
    "'''\n",
    "ta = np.genfromtxt('sample.csv', delimiter=',', names=True)\n",
    "ta[0]"
   ]
  },
  {
   "cell_type": "code",
   "execution_count": 273,
   "id": "2cdaaabe",
   "metadata": {},
   "outputs": [
    {
     "data": {
      "text/plain": [
       "(numpy.ndarray, 1, (3,))"
      ]
     },
     "execution_count": 273,
     "metadata": {},
     "output_type": "execute_result"
    }
   ],
   "source": [
    "type(ta), ta.ndim, ta.shape"
   ]
  },
  {
   "cell_type": "code",
   "execution_count": null,
   "id": "0c251793",
   "metadata": {},
   "outputs": [],
   "source": []
  }
 ],
 "metadata": {
  "kernelspec": {
   "display_name": "Python 3 (ipykernel)",
   "language": "python",
   "name": "python3"
  },
  "language_info": {
   "codemirror_mode": {
    "name": "ipython",
    "version": 3
   },
   "file_extension": ".py",
   "mimetype": "text/x-python",
   "name": "python",
   "nbconvert_exporter": "python",
   "pygments_lexer": "ipython3",
   "version": "3.9.12"
  }
 },
 "nbformat": 4,
 "nbformat_minor": 5
}
