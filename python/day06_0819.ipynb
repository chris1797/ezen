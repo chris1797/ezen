{
 "cells": [
  {
   "cell_type": "code",
   "execution_count": null,
   "id": "2ce8d54f",
   "metadata": {},
   "outputs": [],
   "source": [
    "import threading"
   ]
  },
  {
   "cell_type": "code",
   "execution_count": null,
   "id": "390d0064-d0cd-4c25-956f-7fa621a4ed6c",
   "metadata": {},
   "outputs": [],
   "source": [
    "#dir(threading)\n",
    "#dir(threading.Thread)\n",
    "\n",
    "# 코드는 스레드가 실행하고 있다.\n",
    "# 우리가 지금까지 실행했던 코드는 메인 스레드에서 돌아가고 있던 것\n",
    "# 스레드는 코드를 실행하는 가상의 CPU\n",
    "\n",
    "mt = threading.current_thread()\n",
    "# dir(mt)\n",
    "mt.name        # return 'MainThread'\n",
    "mt.getName()   # return 'MainThread'"
   ]
  },
  {
   "cell_type": "markdown",
   "id": "4cf49fa9-875d-4227-8ceb-6ff6e515779c",
   "metadata": {},
   "source": [
    "code\n",
    "---\n",
    "threading.Thread()/start() : Thread1, 루프 100회\n",
    "---\n",
    "threading.Thread()/start() : Thread2, 루프 100회\n",
    "----\n",
    "t1.daemon = True\n",
    "\n",
    "파생 thread 2개 생성 및 실행, 이름 설정\n",
    "MT가 언제 종료하는지, 파생스레드는 언제 종료하는지"
   ]
  },
  {
   "cell_type": "code",
   "execution_count": null,
   "id": "bf798b66-10ae-4d98-8092-f7c8694170f5",
   "metadata": {},
   "outputs": [],
   "source": [
    "class Test:\n",
    "    def m1(self):\n",
    "        pass\n",
    "    \n",
    "    def m2(self):\n",
    "        pass"
   ]
  },
  {
   "cell_type": "code",
   "execution_count": null,
   "id": "6a599d51-ae3f-4396-97a8-e5512de7e893",
   "metadata": {},
   "outputs": [],
   "source": [
    "import threading\n",
    "import time\n",
    "from datetime import datetime \n",
    "\n",
    "def t1():\n",
    "    cnt = 0\n",
    "    for _ in range(10):\n",
    "        cnt += 1\n",
    "        print('{}-{}'.format(threading.currentThread().getName(),cnt))\n",
    "        time.sleep(1)\n",
    "            \n",
    "def t2():\n",
    "    for _ in range(10):\n",
    "        dt = datetime.now()\n",
    "        print('{}-{}'.format(threading.currentThread().getName(),dt))\n",
    "        time.sleep(1)\n",
    "\n",
    "t_name = threading.current_thread().name   # MainThread getName\n",
    "thread1 = threading.Thread(target=test.m1)   # 이건 가상의 cpu고 실행할 고드는 test.m1\n",
    "thread2 = threading.Thread(target=test.m2)\n",
    "\n",
    "print(t_name + ' 시작')\n",
    "\n",
    "thread1.daemon = True\n",
    "thread2.daemon = True\n",
    "\n",
    "thread1.setName('t1')\n",
    "thread2.setName('t2')\n",
    "\n",
    "thread1.start()\n",
    "thread2.start()\n",
    "\n",
    "time.sleep(5) # 5초 후에 MainThread 종료 (Dead상태)\n",
    "\n",
    "print(t_name + ' 종료')"
   ]
  },
  {
   "cell_type": "markdown",
   "id": "b83d515a-afe0-4e05-9a64-b150f21b17c0",
   "metadata": {},
   "source": [
    "## 다양한 Thread 생성하기\n",
    "* 클래스의 멤버가 아닌 함수를 Thread의 코드로 실행하기\n",
    "* 클래스의 멤버 함수(인스턴스 메소드)를 Thread의 코드로 실행하기\n",
    "* 클래스 작성 시 Thread를 상속하여 Thread 생성하기"
   ]
  },
  {
   "cell_type": "code",
   "execution_count": null,
   "id": "5789d8f4-0f5e-4424-b861-ffc5333e4913",
   "metadata": {},
   "outputs": [],
   "source": [
    "import threading\n",
    "import time\n",
    "from datetime import datetime\n",
    "\n",
    "class MyGame(threading.Thread): # 스레드를 상속받아 클래스를 만드는 것, \n",
    "                                # 이러면 내 클래스가 가상의 CPU가 됨\n",
    "    # 초기자 해줘야 함\n",
    "    def __init__(self, name):\n",
    "        threading.Thread.__init__(self)\n",
    "        print(f'{name} Thread created')\n",
    "        self.setName(name)\n",
    "        self.daemon = True\n",
    "\n",
    "    def run(self):\n",
    "        num = 0\n",
    "        for _ in range(10):\n",
    "            num += 1\n",
    "            print(f'{self.name}-{num}')\n",
    "            time.sleep(1)\n",
    "        "
   ]
  },
  {
   "cell_type": "code",
   "execution_count": null,
   "id": "03dd4db6-5d89-4028-8925-452d6c25998f",
   "metadata": {},
   "outputs": [],
   "source": [
    "my_thread = MyGame('game')\n",
    "my_thread.start()\n",
    "\n",
    "while True:\n",
    "    print('{}-{}'.format(threading.current_thread().name, datetime.now()))\n",
    "    time.sleep(1)"
   ]
  },
  {
   "cell_type": "markdown",
   "id": "b30c3ba9-7a4a-48cc-bede-473e8ee2aa23",
   "metadata": {
    "tags": []
   },
   "source": [
    "# Socket\n",
    "* 대기용 소켓\n",
    "* 통신용 소켓"
   ]
  },
  {
   "cell_type": "markdown",
   "id": "50a19b34-e8fe-494b-970c-1be8b1a24471",
   "metadata": {},
   "source": [
    "데이터를 주고 받는 양 노드에는 소켓으로 만들어줘야만 통신이 가능함"
   ]
  },
  {
   "cell_type": "code",
   "execution_count": null,
   "id": "c16a6cee-48a1-4b9f-bc54-ef02fd85f94c",
   "metadata": {},
   "outputs": [],
   "source": [
    "# 서버를 쓰려면 고정적으로 써야하는 코드\n",
    "from socket import *\n",
    "import time\n",
    "import threading\n",
    "\n",
    "serverSock = socket(AF_INET, SOCK_STREAM)\n",
    "serverSock.bind(('', 1797)) # '' : null문자 / 0~1024 는 기업들이 주고 쓰고 있는 포트들, 1024~65535에서 사용\n",
    "serverSock.listen(1)\n",
    "\n",
    "sv = True\n",
    "while sv:\n",
    "    print('- 서버 대기상태 -')\n",
    "    soc,addr = serverSock.accept() # 대기\n",
    "    print(f'{addr} 접속됨 -')\n",
    "    soc.send('접속 성공'.encode('UTF-8'))\n",
    "\n",
    "    msg = soc.recv(1797)\n",
    "    msg = msg.decode('utf-8')\n",
    "    print('로그인 메시지', msg)\n",
    "    uid,pwd = msg.split() # uid, pwd DB에서 검사\n",
    "\n",
    "    if uid is not None and pwd is not None:\n",
    "        soc.send('로그인 성공'.encode('utf-8'))\n",
    "    else:\n",
    "        soc.send('로그인 실패'.encode('utf-8'))\n",
    "\n",
    "    # 너무 빨리 끝나면 stream이 깨지기 때문에 client가 받을 수 없는 상황이 생길 수 있음\n",
    "    # 테스트할 때는 sleep사용\n",
    "    time.sleep(1)\n",
    "    \n",
    "print('서버 종료')"
   ]
  },
  {
   "cell_type": "code",
   "execution_count": null,
   "id": "5e1252f7-a9cd-45a2-a96b-982cfd9944fa",
   "metadata": {},
   "outputs": [
    {
     "name": "stdout",
     "output_type": "stream",
     "text": [
      "- 서버 대기상태 -\n",
      "('127.0.0.1', 55683) 접속됨 -\n",
      "로그인 메시지 scott tiger\n",
      " - 메세지 보내기 - \n",
      "- 서버 대기상태 -\n"
     ]
    },
    {
     "name": "stdin",
     "output_type": "stream",
     "text": [
      ">  123\n"
     ]
    },
    {
     "name": "stdout",
     "output_type": "stream",
     "text": [
      " - 메세지 보내기 - \n",
      "< 123\n"
     ]
    },
    {
     "name": "stdin",
     "output_type": "stream",
     "text": [
      ">  321\n"
     ]
    },
    {
     "name": "stdout",
     "output_type": "stream",
     "text": [
      " - 메세지 보내기 - \n",
      "< 321\n"
     ]
    },
    {
     "name": "stdin",
     "output_type": "stream",
     "text": [
      ">  123\n"
     ]
    },
    {
     "name": "stdout",
     "output_type": "stream",
     "text": [
      " - 메세지 보내기 - \n"
     ]
    },
    {
     "name": "stderr",
     "output_type": "stream",
     "text": [
      "Exception in thread Thread-6:\n",
      "Traceback (most recent call last):\n",
      "  File \"C:\\Users\\302-18\\anaconda3\\lib\\threading.py\", line 973, in _bootstrap_inner\n",
      "    self.run()\n",
      "  File \"C:\\Users\\302-18\\anaconda3\\lib\\threading.py\", line 910, in run\n",
      "    self._target(*self._args, **self._kwargs)\n",
      "  File \"C:\\Users\\302-18\\AppData\\Local\\Temp\\ipykernel_11484\\1336330213.py\", line 18, in receive\n",
      "ConnectionResetError: [WinError 10054] 현재 연결은 원격 호스트에 의해 강제로 끊겼습니다\n"
     ]
    },
    {
     "name": "stdin",
     "output_type": "stream",
     "text": [
      ">  321\n"
     ]
    },
    {
     "name": "stderr",
     "output_type": "stream",
     "text": [
      "Exception in thread Thread-5:\n",
      "Traceback (most recent call last):\n",
      "  File \"C:\\Users\\302-18\\anaconda3\\lib\\threading.py\", line 973, in _bootstrap_inner\n",
      "    self.run()\n",
      "  File \"C:\\Users\\302-18\\anaconda3\\lib\\threading.py\", line 910, in run\n",
      "    self._target(*self._args, **self._kwargs)\n",
      "  File \"C:\\Users\\302-18\\AppData\\Local\\Temp\\ipykernel_11484\\1336330213.py\", line 14, in send\n",
      "ConnectionResetError: [WinError 10054] 현재 연결은 원격 호스트에 의해 강제로 끊겼습니다\n"
     ]
    }
   ],
   "source": [
    "# 서버를 쓰려면 고정적으로 써야하는 코드\n",
    "from socket import *\n",
    "import time\n",
    "import threading\n",
    "\n",
    "serverSock = socket(AF_INET, SOCK_STREAM)\n",
    "serverSock.bind(('', 1797)) # '' : null문자 / 0~1024 는 기업들이 주고 쓰고 있는 포트들, 1024~65535에서 사용\n",
    "serverSock.listen(1)\n",
    "\n",
    "def send():\n",
    "    while True:\n",
    "        print(' - 메세지 보내기 - ')\n",
    "        msg = input('> ')\n",
    "        soc.send(msg.encode('UTF-8'))\n",
    "\n",
    "def receive():\n",
    "    while True:\n",
    "        msg = soc.recv(1024)\n",
    "        print(f'< {msg.decode(\"UTF-8\")}')\n",
    "            \n",
    "sv = True\n",
    "while sv:\n",
    "    \n",
    "    print('- 서버 대기상태 -')\n",
    "    soc,addr = serverSock.accept() # 대기\n",
    "    print(f'{addr} 접속됨 -')\n",
    "    soc.send('접속 성공'.encode('UTF-8'))\n",
    "    \n",
    "    time.sleep(1)\n",
    "    \n",
    "    msg = soc.recv(1024)\n",
    "    msg = msg.decode('utf-8')\n",
    "    print('로그인 메시지', msg)\n",
    "    uid,pwd = msg.split() # uid, pwd DB에서 검사\n",
    "\n",
    "    if uid is not None and pwd is not None:\n",
    "        soc.send('로그인 성공'.encode('utf-8'))\n",
    "    else:\n",
    "        soc.send('로그인 실패'.encode('utf-8'))\n",
    "\n",
    "    t_send = threading.Thread(target=send)\n",
    "    t_receive = threading.Thread(target=receive)\n",
    "\n",
    "    t_send.start()\n",
    "    t_receive.start()\n",
    "        \n"
   ]
  },
  {
   "cell_type": "code",
   "execution_count": null,
   "id": "35f5513b-6303-4bda-9e05-066c627b8547",
   "metadata": {
    "tags": []
   },
   "outputs": [],
   "source": [
    "from socket import *\n",
    "import time\n",
    "import threading\n",
    "\n",
    "# 접속해서 통신하는 기능\n",
    "clientSock = socket(AF_INET, SOCK_STREAM)\n",
    "clientSock.connect(('127.0.0.1',1797))\n",
    "\n",
    "def send():\n",
    "    while True:\n",
    "        print(' - 메세지 보내기 - ')\n",
    "        msg = input('> ')\n",
    "        clientSock.send(msg.encode('UTF-8'))\n",
    "\n",
    "def receive():\n",
    "    while True:\n",
    "        msg = clientSock.recv(1024)\n",
    "        print(f'< {msg.decode(\"UTF-8\")}')\n",
    "\n",
    "time.sleep(1)\n",
    "        \n",
    "t_send = threading.Thread(target=send)\n",
    "t_receive = threading.Thread(target=receive)\n",
    "\n",
    "t_send.start()\n",
    "t_receive.start()"
   ]
  },
  {
   "cell_type": "code",
   "execution_count": null,
   "id": "4bb55c4a-dd45-4042-a311-86c46907d80a",
   "metadata": {},
   "outputs": [],
   "source": []
  }
 ],
 "metadata": {
  "kernelspec": {
   "display_name": "Python 3 (ipykernel)",
   "language": "python",
   "name": "python3"
  },
  "language_info": {
   "codemirror_mode": {
    "name": "ipython",
    "version": 3
   },
   "file_extension": ".py",
   "mimetype": "text/x-python",
   "name": "python",
   "nbconvert_exporter": "python",
   "pygments_lexer": "ipython3",
   "version": "3.9.12"
  }
 },
 "nbformat": 4,
 "nbformat_minor": 5
}
